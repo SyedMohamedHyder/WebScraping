{
 "cells": [
  {
   "cell_type": "code",
   "execution_count": 1,
   "id": "sacred-lecture",
   "metadata": {},
   "outputs": [],
   "source": [
    "import requests\n",
    "from bs4 import BeautifulSoup"
   ]
  },
  {
   "cell_type": "code",
   "execution_count": 58,
   "id": "changing-master",
   "metadata": {},
   "outputs": [],
   "source": [
    "def extract_indeed(page_number):\n",
    "    start = (page_number - 1) * 10\n",
    "    print('Getting page: ', page_number)\n",
    "    url = f'https://in.indeed.com/jobs?q=arduino&start={start}'\n",
    "    headers = {'User-Agent': 'Mozilla/5.0 (Windows NT 10.0; Win64; x64) AppleWebKit/537.36 (KHTML, like Gecko) Chrome/89.0.4389.128 Safari/537.36'}\n",
    "    response = requests.get(url, headers=headers)\n",
    "    html = response.text\n",
    "    return BeautifulSoup(html, 'html.parser')\n"
   ]
  },
  {
   "cell_type": "code",
   "execution_count": 54,
   "id": "universal-craps",
   "metadata": {},
   "outputs": [],
   "source": [
    "def transform(soup):\n",
    "    jobs = soup.find_all('div', {'class': 'jobsearch-SerpJobCard'})\n",
    "    for job in jobs:\n",
    "        title = job.find('a', {'class': 'jobtitle'})['title']\n",
    "        company = job.find('span', {'class': 'company'}).text.strip()\n",
    "        location = job.find('span', {'class': 'location'})\n",
    "        salary = job.find('span', {'class': 'salaryText'})\n",
    "        summary = job.find('div', {'class': 'summary'})\n",
    "        yield dict(\n",
    "            title = title,\n",
    "            company = company,\n",
    "            location = (location or '') and location.text.strip(),\n",
    "            salary = (salary or '') and salary.text.strip(),\n",
    "            summary = (summary or '') and summary.text.strip()\n",
    "        )"
   ]
  },
  {
   "cell_type": "code",
   "execution_count": 55,
   "id": "organic-director",
   "metadata": {},
   "outputs": [],
   "source": [
    "import pandas\n",
    "from itertools import chain"
   ]
  },
  {
   "cell_type": "code",
   "execution_count": 56,
   "id": "essential-bedroom",
   "metadata": {},
   "outputs": [],
   "source": [
    "def save_to_file(filename, *, start_page=1, end_page=10):\n",
    "    joblist = list()\n",
    "    for page in range(start_page, end_page):\n",
    "        page_details = extract_indeed(page)\n",
    "        data = transform(page_details)\n",
    "        joblist.append(data)\n",
    "    full_detail = chain.from_iterable(joblist)\n",
    "    df = pandas.DataFrame(full_detail)\n",
    "    df.to_csv(filename, index=False)"
   ]
  },
  {
   "cell_type": "code",
   "execution_count": 59,
   "id": "accurate-candy",
   "metadata": {},
   "outputs": [
    {
     "name": "stdout",
     "output_type": "stream",
     "text": [
      "Getting page:  1\n",
      "Getting page:  2\n",
      "Getting page:  3\n",
      "Getting page:  4\n",
      "Getting page:  5\n",
      "Getting page:  6\n",
      "Getting page:  7\n",
      "Getting page:  8\n",
      "Getting page:  9\n"
     ]
    }
   ],
   "source": [
    "save_to_file('indeed_arduino_jobs.csv')"
   ]
  },
  {
   "cell_type": "code",
   "execution_count": null,
   "id": "indie-consortium",
   "metadata": {},
   "outputs": [],
   "source": []
  }
 ],
 "metadata": {
  "kernelspec": {
   "display_name": "Python 3",
   "language": "python",
   "name": "python3"
  },
  "language_info": {
   "codemirror_mode": {
    "name": "ipython",
    "version": 3
   },
   "file_extension": ".py",
   "mimetype": "text/x-python",
   "name": "python",
   "nbconvert_exporter": "python",
   "pygments_lexer": "ipython3",
   "version": "3.9.1"
  }
 },
 "nbformat": 4,
 "nbformat_minor": 5
}
