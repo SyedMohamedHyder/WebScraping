{
 "cells": [
  {
   "cell_type": "code",
   "execution_count": 2,
   "id": "bottom-multimedia",
   "metadata": {},
   "outputs": [],
   "source": [
    "import json\n",
    "import requests\n",
    "from bs4 import BeautifulSoup"
   ]
  },
  {
   "cell_type": "code",
   "execution_count": 31,
   "id": "controversial-forwarding",
   "metadata": {},
   "outputs": [],
   "source": [
    "url = 'https://www.accommodationforstudents.com/search-results?location=London&area=Baker%20Street&beds=0&searchType=any&lettingPeriod=academicYear&price=undefined&limit=12'"
   ]
  },
  {
   "cell_type": "code",
   "execution_count": 32,
   "id": "collaborative-people",
   "metadata": {},
   "outputs": [],
   "source": [
    "response = requests.get(url)"
   ]
  },
  {
   "cell_type": "code",
   "execution_count": 36,
   "id": "south-magazine",
   "metadata": {},
   "outputs": [],
   "source": [
    "html = response.text"
   ]
  },
  {
   "cell_type": "code",
   "execution_count": 37,
   "id": "julian-vegetarian",
   "metadata": {},
   "outputs": [],
   "source": [
    "soup = BeautifulSoup(html, 'html.parser')"
   ]
  },
  {
   "cell_type": "code",
   "execution_count": 40,
   "id": "pharmaceutical-slovak",
   "metadata": {},
   "outputs": [],
   "source": [
    "rooms = soup.find_all('article')"
   ]
  },
  {
   "cell_type": "code",
   "execution_count": 62,
   "id": "humanitarian-jones",
   "metadata": {},
   "outputs": [],
   "source": [
    "rooms_data = list()\n",
    "for room in rooms:\n",
    "    try:\n",
    "        room_info = dict()\n",
    "        room_info['title'] = room.find('div', {'class': 'student-halls-card__title-wrapper'}).text\n",
    "        room_info['short description'] = room.find('strong', {'class': \n",
    "                                                         'student-halls-card__type'}).text\n",
    "        room_info['address'] = room.find('span', {'class': 'address__text'}).text\n",
    "        room_info['location'] = room.find('p', {'class': 'distance-info__label'}).text\n",
    "        rooms_data.append(room_info)\n",
    "    except AttributeError:\n",
    "        pass"
   ]
  },
  {
   "cell_type": "code",
   "execution_count": 63,
   "id": "common-orange",
   "metadata": {},
   "outputs": [
    {
     "data": {
      "text/plain": [
       "[{'title': 'Nutford House',\n",
       "  'short description': 'Student hall',\n",
       "  'address': 'Marylebone, London, W1H 5UL',\n",
       "  'location': '0.4 miles to Baker Street, London'},\n",
       " {'title': 'AXO Oxford Circus',\n",
       "  'short description': 'Student hall',\n",
       "  'address': 'Westminster, London, W1W 5DB',\n",
       "  'location': '0.5 miles to Baker Street, London'},\n",
       " {'title': 'Goldsmiths House',\n",
       "  'short description': 'Student hall',\n",
       "  'address': 'Camden, London, NW1 3SX',\n",
       "  'location': '1 miles to Baker Street, London'},\n",
       " {'title': 'iQ Bloomsbury',\n",
       "  'short description': 'Student hall',\n",
       "  'address': 'Bloomsbury, London, NW1 2DA',\n",
       "  'location': '1 miles to Baker Street, London'},\n",
       " {'title': 'Bloomsbury Janet Poole House',\n",
       "  'short description': 'Student hall',\n",
       "  'address': 'Bloomsbury, London, WC1E 6AA',\n",
       "  'location': '1 miles to Baker Street, London'},\n",
       " {'title': 'College Hall',\n",
       "  'short description': 'Student hall',\n",
       "  'address': 'Camden, London, WC1E 7HZ',\n",
       "  'location': '1.1 miles to Baker Street, London'},\n",
       " {'title': 'Connaught Hall',\n",
       "  'short description': 'Student hall',\n",
       "  'address': 'Kings Cross, London, WC1H 9EX',\n",
       "  'location': '1.2 miles to Baker Street, London'},\n",
       " {'title': 'Scape Bloomsbury',\n",
       "  'short description': 'Student hall',\n",
       "  'address': 'Camden, London, WC1H 0NH',\n",
       "  'location': '1.3 miles to Baker Street, London'},\n",
       " {'title': 'Helen Graham House',\n",
       "  'short description': 'Student hall',\n",
       "  'address': 'Holborn, London, WC1B 3BD',\n",
       "  'location': '1.4 miles to Baker Street, London'},\n",
       " {'title': 'Garden Hall',\n",
       "  'short description': 'Student hall',\n",
       "  'address': 'Kings Cross, London, WC1H 9EB',\n",
       "  'location': '1.4 miles to Baker Street, London'}]"
      ]
     },
     "execution_count": 63,
     "metadata": {},
     "output_type": "execute_result"
    }
   ],
   "source": [
    "rooms_data"
   ]
  },
  {
   "cell_type": "code",
   "execution_count": 64,
   "id": "tender-winner",
   "metadata": {},
   "outputs": [
    {
     "data": {
      "text/plain": [
       "10"
      ]
     },
     "execution_count": 64,
     "metadata": {},
     "output_type": "execute_result"
    }
   ],
   "source": [
    "len(rooms_data)"
   ]
  },
  {
   "cell_type": "code",
   "execution_count": null,
   "id": "black-lawyer",
   "metadata": {},
   "outputs": [],
   "source": []
  }
 ],
 "metadata": {
  "kernelspec": {
   "display_name": "Python 3",
   "language": "python",
   "name": "python3"
  },
  "language_info": {
   "codemirror_mode": {
    "name": "ipython",
    "version": 3
   },
   "file_extension": ".py",
   "mimetype": "text/x-python",
   "name": "python",
   "nbconvert_exporter": "python",
   "pygments_lexer": "ipython3",
   "version": "3.9.1"
  }
 },
 "nbformat": 4,
 "nbformat_minor": 5
}
