{
 "cells": [
  {
   "cell_type": "code",
   "execution_count": 17,
   "id": "mysterious-brief",
   "metadata": {},
   "outputs": [],
   "source": [
    "import requests\n",
    "import pandas as pd\n",
    "from bs4 import BeautifulSoup\n",
    "from datetime import datetime"
   ]
  },
  {
   "cell_type": "code",
   "execution_count": 22,
   "id": "arabic-rebound",
   "metadata": {},
   "outputs": [],
   "source": [
    "def request_page(page_number):\n",
    "    url = f'https://blog.mozilla.org/page/{page_number}/'\n",
    "    response = requests.get(url)\n",
    "    html= response.text\n",
    "    return BeautifulSoup(html, 'html.parser')\n",
    "\n",
    "def parse_wordpress(soup):\n",
    "    articles = soup.find_all('article', {'class': 'post-summary'})\n",
    "    for article in articles:\n",
    "        yield {\n",
    "            'title': article.find('h2', {'class': 'entry-title'}).text.strip(),\n",
    "            'wordpress url': article.find('a', {'class': 'entry-link'})['href'],\n",
    "            'author': article.find('a', {'class': 'author url fn'}).text.strip(),\n",
    "            'author url': article.find('a', {'class': 'author url fn'})['href'],\n",
    "            'date published': datetime.fromisoformat(\n",
    "                article.find('time', {'class': 'date published'})['datetime']\n",
    "            ),\n",
    "            \n",
    "        }\n",
    "        \n",
    "def save_to_csv(data, filename):\n",
    "    df = pd.DataFrame(data)\n",
    "    df.to_csv(filename, index=False)"
   ]
  },
  {
   "cell_type": "code",
   "execution_count": 23,
   "id": "configured-prague",
   "metadata": {},
   "outputs": [],
   "source": [
    "soup = request_page(1)"
   ]
  },
  {
   "cell_type": "code",
   "execution_count": 24,
   "id": "vocal-kitchen",
   "metadata": {},
   "outputs": [],
   "source": [
    "wordpress = parse_wordpress(soup)"
   ]
  },
  {
   "cell_type": "code",
   "execution_count": 25,
   "id": "passive-desperate",
   "metadata": {},
   "outputs": [],
   "source": [
    "save_to_csv(wordpress, 'page1_wordpress.csv')"
   ]
  },
  {
   "cell_type": "code",
   "execution_count": 26,
   "id": "closed-nutrition",
   "metadata": {},
   "outputs": [],
   "source": [
    "import itertools"
   ]
  },
  {
   "cell_type": "code",
   "execution_count": 27,
   "id": "organizational-selling",
   "metadata": {},
   "outputs": [],
   "source": [
    "wordpress_data = itertools.chain.from_iterable(parse_wordpress(request_page(page_number)) \n",
    "                              for page_number in range(84, 87))\n",
    "save_to_csv(wordpress_data, 'wordpress.csv')"
   ]
  },
  {
   "cell_type": "code",
   "execution_count": null,
   "id": "motivated-probe",
   "metadata": {},
   "outputs": [],
   "source": []
  }
 ],
 "metadata": {
  "kernelspec": {
   "display_name": "Python 3",
   "language": "python",
   "name": "python3"
  },
  "language_info": {
   "codemirror_mode": {
    "name": "ipython",
    "version": 3
   },
   "file_extension": ".py",
   "mimetype": "text/x-python",
   "name": "python",
   "nbconvert_exporter": "python",
   "pygments_lexer": "ipython3",
   "version": "3.9.1"
  }
 },
 "nbformat": 4,
 "nbformat_minor": 5
}
