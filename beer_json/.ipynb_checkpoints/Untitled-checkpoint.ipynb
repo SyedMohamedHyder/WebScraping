{
 "cells": [
  {
   "cell_type": "code",
   "execution_count": 2,
   "id": "funky-parameter",
   "metadata": {},
   "outputs": [],
   "source": [
    "import json\n",
    "import random\n",
    "import requests"
   ]
  },
  {
   "cell_type": "code",
   "execution_count": 18,
   "id": "minute-reading",
   "metadata": {},
   "outputs": [],
   "source": [
    "url = f'https://api.punkapi.com/v2/beers?food=pie&per_page=80'"
   ]
  },
  {
   "cell_type": "code",
   "execution_count": 19,
   "id": "certified-south",
   "metadata": {},
   "outputs": [],
   "source": [
    "response = requests.get(url)\n",
    "html = response.text\n",
    "beers = json.loads(html)"
   ]
  },
  {
   "cell_type": "code",
   "execution_count": 22,
   "id": "otherwise-condition",
   "metadata": {},
   "outputs": [
    {
     "data": {
      "text/plain": [
       "{'id': 274,\n",
       " 'name': 'Prototype Black Rye IPA',\n",
       " 'tagline': 'Complex Dark Ale',\n",
       " 'first_brewed': '2017',\n",
       " 'description': 'Our Prototype Challenge sees us pit three new trial beers against each other. This Black Rye IPA combines two spins on an American IPA, in the left-right jab combo of extra ingredients.',\n",
       " 'image_url': None,\n",
       " 'abv': 6.5,\n",
       " 'ibu': 70,\n",
       " 'target_fg': 1012,\n",
       " 'target_og': 1060,\n",
       " 'ebc': 135,\n",
       " 'srm': 69,\n",
       " 'ph': 4.5,\n",
       " 'attenuation_level': 80,\n",
       " 'volume': {'value': 20, 'unit': 'litres'},\n",
       " 'boil_volume': {'value': 25, 'unit': 'litres'},\n",
       " 'method': {'mash_temp': [{'temp': {'value': 66, 'unit': 'celsius'},\n",
       "    'duration': 75}],\n",
       "  'fermentation': {'temp': {'value': 19, 'unit': 'celsius'}},\n",
       "  'twist': None},\n",
       " 'ingredients': {'malt': [{'name': 'Pale Ale',\n",
       "    'amount': {'value': 4.08, 'unit': 'kilograms'}},\n",
       "   {'name': 'Rye', 'amount': {'value': 0.36, 'unit': 'kilograms'}},\n",
       "   {'name': 'Light Crystal', 'amount': {'value': 0.18, 'unit': 'kilograms'}},\n",
       "   {'name': 'Chocolate Wheat', 'amount': {'value': 0.24, 'unit': 'kilograms'}},\n",
       "   {'name': 'Carafa Special Malt Type 3',\n",
       "    'amount': {'value': 0.18, 'unit': 'kilograms'}}],\n",
       "  'hops': [{'name': 'Simcoe',\n",
       "    'amount': {'value': 24, 'unit': 'grams'},\n",
       "    'add': '90',\n",
       "    'attribute': 'Bittering'},\n",
       "   {'name': 'Chinook',\n",
       "    'amount': {'value': 20, 'unit': 'grams'},\n",
       "    'add': '30',\n",
       "    'attribute': 'Flavour'},\n",
       "   {'name': 'Centennial',\n",
       "    'amount': {'value': 20, 'unit': 'grams'},\n",
       "    'add': '0',\n",
       "    'attribute': 'Aroma'},\n",
       "   {'name': 'Simcoe',\n",
       "    'amount': {'value': 20, 'unit': 'grams'},\n",
       "    'add': '0',\n",
       "    'attribute': 'Aroma'},\n",
       "   {'name': 'Citra',\n",
       "    'amount': {'value': 150, 'unit': 'grams'},\n",
       "    'add': 'Dry Hop',\n",
       "    'attribute': 'Aroma'},\n",
       "   {'name': 'Chinook',\n",
       "    'amount': {'value': 50, 'unit': 'grams'},\n",
       "    'add': 'Dry Hop',\n",
       "    'attribute': 'Aroma'}],\n",
       "  'yeast': 'Wyeast 1272 - American Ale II™'},\n",
       " 'food_pairing': ['Guacamole And Chips',\n",
       "  'Coriander Chicken Tostadas',\n",
       "  'Key Lime Pie'],\n",
       " 'brewers_tips': 'If you want the colour but less of the flavour of the dark malts, try substituting the Carafa Special III for a dehusked version of Carafa.',\n",
       " 'contributed_by': 'John Jenkman <johnjenkman>'}"
      ]
     },
     "execution_count": 22,
     "metadata": {},
     "output_type": "execute_result"
    }
   ],
   "source": [
    "random.choice(beers)"
   ]
  },
  {
   "cell_type": "code",
   "execution_count": 23,
   "id": "detected-ancient",
   "metadata": {},
   "outputs": [],
   "source": [
    "def get_beer(side_dish):\n",
    "    url = f'https://api.punkapi.com/v2/beers?food={side_dish}&per_page=80'\n",
    "    response = requests.get(url)\n",
    "    html = response.text\n",
    "    beers = json.loads(html)\n",
    "    return random.choice(beers)"
   ]
  },
  {
   "cell_type": "code",
   "execution_count": 24,
   "id": "unauthorized-stamp",
   "metadata": {},
   "outputs": [
    {
     "name": "stdout",
     "output_type": "stream",
     "text": [
      "Enter the side dish : chicken\n",
      "{'id': 248, 'name': 'Twin Atlantic', 'tagline': 'Mango & Pineapple Pale', 'first_brewed': '2016', 'description': 'Brewed in collaboration with our AGM-headlining band, Twin Atlantic, this US style pale features some of our favourite hops and is loaded with tropical fruit.', 'image_url': 'https://images.punkapi.com/v2/keg.png', 'abv': 5, 'ibu': 80, 'target_fg': 1011, 'target_og': 1048, 'ebc': 19, 'srm': 9.7, 'ph': 5.2, 'attenuation_level': 77, 'volume': {'value': 20, 'unit': 'litres'}, 'boil_volume': {'value': 25, 'unit': 'litres'}, 'method': {'mash_temp': [{'temp': {'value': 65, 'unit': 'celsius'}, 'duration': 75}], 'fermentation': {'temp': {'value': 19, 'unit': 'celsius'}}, 'twist': 'Mango and Pineapple added to FV after Primary fermentation'}, 'ingredients': {'malt': [{'name': 'Pale Ale', 'amount': {'value': 3, 'unit': 'kilograms'}}, {'name': 'Caramalt', 'amount': {'value': 0.2, 'unit': 'kilograms'}}], 'hops': [{'name': 'Cascade', 'amount': {'value': 40, 'unit': 'grams'}, 'add': 'End', 'attribute': 'Aroma'}, {'name': 'Equinox', 'amount': {'value': 40, 'unit': 'grams'}, 'add': 'End', 'attribute': 'Aroma'}], 'yeast': 'Wyeast 1056 - American Ale™'}, 'food_pairing': ['Jerk Chicken Kebabs with Mango Salsa', 'Avocado and Citrus Salad', 'Pineapple Upside Down Cake'], 'brewers_tips': \"If you can't find an awesome Scottish band to collaborate with just pump up the volume on your stereo and have fun moshing whilst you're mashing in. Use ripe but fresh fruit and be prepared to lose extra volume to it. It'll be worth it.\", 'contributed_by': 'John Jenkman <johnjenkman>'}\n"
     ]
    }
   ],
   "source": [
    "side_dish = input('Enter the side dish : ')\n",
    "print(get_beer(side_dish))"
   ]
  },
  {
   "cell_type": "code",
   "execution_count": null,
   "id": "detailed-negotiation",
   "metadata": {},
   "outputs": [],
   "source": []
  }
 ],
 "metadata": {
  "kernelspec": {
   "display_name": "Python 3",
   "language": "python",
   "name": "python3"
  },
  "language_info": {
   "codemirror_mode": {
    "name": "ipython",
    "version": 3
   },
   "file_extension": ".py",
   "mimetype": "text/x-python",
   "name": "python",
   "nbconvert_exporter": "python",
   "pygments_lexer": "ipython3",
   "version": "3.9.1"
  }
 },
 "nbformat": 4,
 "nbformat_minor": 5
}
