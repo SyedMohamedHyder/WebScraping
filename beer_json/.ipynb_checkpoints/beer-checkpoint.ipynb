{
 "cells": [
  {
   "cell_type": "code",
   "execution_count": null,
   "id": "funky-parameter",
   "metadata": {},
   "outputs": [],
   "source": [
    "import json\n",
    "import random\n",
    "import smtplib\n",
    "import requests"
   ]
  },
  {
   "cell_type": "code",
   "execution_count": null,
   "id": "minute-reading",
   "metadata": {},
   "outputs": [],
   "source": [
    "url = f'https://api.punkapi.com/v2/beers?food=pie&per_page=80'"
   ]
  },
  {
   "cell_type": "code",
   "execution_count": null,
   "id": "certified-south",
   "metadata": {},
   "outputs": [],
   "source": [
    "response = requests.get(url)\n",
    "html = response.text\n",
    "beers = json.loads(html)"
   ]
  },
  {
   "cell_type": "code",
   "execution_count": null,
   "id": "detected-ancient",
   "metadata": {},
   "outputs": [],
   "source": [
    "def get_beer(side_dish):\n",
    "    url = f'https://api.punkapi.com/v2/beers?food={side_dish}&per_page=80'\n",
    "    response = requests.get(url)\n",
    "    html = response.text\n",
    "    beers = json.loads(html)\n",
    "    beer = random.choice(beers)\n",
    "    return {\n",
    "        'beer' : beer['name'],\n",
    "        'description' : beer['description'],\n",
    "        'food_pairing' : ', '.join(beer['food_pairing']),\n",
    "    }"
   ]
  },
  {
   "cell_type": "code",
   "execution_count": null,
   "id": "unauthorized-stamp",
   "metadata": {},
   "outputs": [],
   "source": [
    "side_dish = input('Enter the side dish : ')\n",
    "for key, value in get_beer(side_dish).items():\n",
    "    print(f'{key} : {value}')"
   ]
  },
  {
   "cell_type": "code",
   "execution_count": null,
   "id": "detailed-negotiation",
   "metadata": {},
   "outputs": [],
   "source": [
    "def send_mail(sender_mail, sender_password, reciever_mail, message):\n",
    "    server = smtplib.SMTP('smtp.gmail.com', 587)\n",
    "    server.starttls()\n",
    "    server.login(sender_mail, sender_password)\n",
    "    server.sendmail(sender_mail, reciever_mail, message)\n",
    "    server.quit()"
   ]
  },
  {
   "cell_type": "code",
   "execution_count": null,
   "id": "prompt-airplane",
   "metadata": {},
   "outputs": [],
   "source": [
    "def send_beer_message(sender_mail, sender_password, reciever_mail, side_dish):\n",
    "    subject = f'This mail gives you perfect beer for {side_dish}'\n",
    "    beer = get_beer(side_dish)\n",
    "    body = '\\n'.join(f'{key} : {value}' for key, value in beer.items())\n",
    "    message = f'Subject : {subject} \\n\\n{body}'\n",
    "    print('Sending mail...')\n",
    "    send_mail(sender_mail, sender_password, reciever_mail, message)\n",
    "    print('Mail sent...')"
   ]
  },
  {
   "cell_type": "code",
   "execution_count": null,
   "id": "sought-monitor",
   "metadata": {},
   "outputs": [],
   "source": [
    "sender_mail = 'syedhyder1362k@gmail.com'\n",
    "reciever_mail = 'jabeen3108@gmail.com'\n",
    "side_dish = input('Enter the side dish : ')\n",
    "sender_password = input('Enter your password')\n",
    "\n",
    "send_beer_message(sender_mail, sender_password, reciever_mail, side_dish)"
   ]
  },
  {
   "cell_type": "code",
   "execution_count": null,
   "id": "threatened-peace",
   "metadata": {},
   "outputs": [],
   "source": []
  }
 ],
 "metadata": {
  "kernelspec": {
   "display_name": "Python 3",
   "language": "python",
   "name": "python3"
  },
  "language_info": {
   "codemirror_mode": {
    "name": "ipython",
    "version": 3
   },
   "file_extension": ".py",
   "mimetype": "text/x-python",
   "name": "python",
   "nbconvert_exporter": "python",
   "pygments_lexer": "ipython3",
   "version": "3.9.1"
  }
 },
 "nbformat": 4,
 "nbformat_minor": 5
}
