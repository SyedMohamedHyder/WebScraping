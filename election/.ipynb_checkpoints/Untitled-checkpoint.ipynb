{
 "cells": [
  {
   "cell_type": "code",
   "execution_count": 1,
   "id": "annual-waters",
   "metadata": {},
   "outputs": [],
   "source": [
    "import csv"
   ]
  },
  {
   "cell_type": "code",
   "execution_count": 7,
   "id": "large-swedish",
   "metadata": {},
   "outputs": [
    {
     "name": "stdout",
     "output_type": "stream",
     "text": [
      "Makkal Needhi Maiam 1210337 2.6406997433125445\n",
      "Naam Tamilar Katchi 3030273 6.611415773678682\n",
      "Amma Makkal Munnettra Kazagam 1085915 2.369237213899304\n",
      "Anna MGR Dravida Makkal Kalgam 3157 0.006887907326337791\n",
      "Independent 641870 1.400424794284586\n",
      "None of the Above 343755 0.7500008181708101\n",
      "All India Anna Dravida Munnetra Kazhagam 15306135 33.39475432512363\n",
      "Desiya Murpokku Dravida Kazhagam 197580 0.43107783640729197\n",
      "Dravida Munnetra Kazhagam 17303648 37.75290586999375\n",
      "Bahujan Samaj Party 99182 0.21639417942376774\n",
      "Indiya Jananayaka Katchi 38472 0.08393777974623615\n",
      "All India Jananayaka Makkal Kazhagam 2337 0.005098840488327975\n",
      "Pattali Makkal Katchi 1683260 3.6725178606687834\n",
      "My India Party 11602 0.025313113969012056\n",
      "Tamil Nadu Ilangyar Katchi 22953 0.05007859894248695\n",
      "Tamilnadu Makkal Nalvazhvu Periyakkam 120 0.00026181465922094863\n",
      "MGR Makkal Katchi 504 0.0010996215687279845\n",
      "Nationalist Congress Party 3371 0.007354810135281817\n",
      "Bahujan Dravida Party 1508 0.003290137550876588\n",
      "Anaithu Makkal Arasiyal Katchi 3001 0.006547548269350558\n",
      "Desiya Makkal Sakthi Katchi 4125 0.00899987891072011\n",
      "Shiv Sena 1205 0.0026290555363436925\n",
      "Naadaalum Makkal Katchi 1705 0.0037199499497643125\n",
      "Samata Party 291 0.0006349005486108005\n",
      "Makkal Nalvaazhvuk Katchi 104 0.00022690603799148883\n",
      "SOCIALIST UNITY CENTRE OF INDIA (COMMUNIST) 855 0.0018654294469492591\n",
      "Republican Party of India (Athawale) 2510 0.00547628995537151\n",
      "United States of India Party 1980 0.004319941877145653\n",
      "New Generation Peopleâ€™s Party 5403 0.011788205031423213\n",
      "Veerath Thiyagi Viswanathadoss Thozhilalarkal Katchi 7324 0.015979421367785233\n",
      "Makkalatchi Katchi 255 0.000556356150844516\n",
      "National Democratic Party of South India 1073 0.0023410594112006494\n",
      "Thamizhaga Munnetra Congress 116 0.0002530875039135837\n",
      "Nam India Naam Indiyar Katchi 375 0.0008181708100654647\n",
      "Valamaana  Tamizhagam   Katchi 261 0.0005694468838055633\n",
      "Republican Party of India  (Sivaraj) 62 0.0001352709072641568\n",
      "Lok Jan Shakti Party 970 0.002116335162036002\n",
      "Tipu Sultan Party 2050 0.004472667095024539\n",
      "Bharatiya Janata Party 1213510 2.6476225592601117\n",
      "Tamizhaga Murpokku Makkal Katchi 667 0.0014552531475031064\n",
      "Rashtriya Janata Dal 478 0.0010428950592301122\n",
      "Mahathma Makkal Munnetra Kazhakam 52 0.00011345301899574442\n",
      "Jebamani Janata 113 0.00024654213743306\n",
      "Indian National Congress 1881999 4.106124390326385\n",
      "Anna MGR Dravida Munnetra Kazhagam 160 0.0003490862122945982\n",
      "Bhartiya Manavadhikaar Federal Party 63 0.00013745269609099806\n",
      "SOCIAL DEMOCRATIC PARTY OF INDIA 28051 0.06120135838172359\n",
      "Puthiya Tamilagam 39614 0.08642938258648883\n",
      "Dravida Murpokku Makkal Katchi 197 0.000429812398887724\n",
      "Communist Party of India  (Marxist-Leninist)  (Liberation) 5135 0.011203485625829762\n",
      "Viduthalai Chiruthaigal Katchi 457763 0.9987421987413261\n",
      "Desiya Sirupanmayinar Makkal Iyakkam 1264 0.0027577810771273257\n",
      "Makkal Munnetra Peravai 1276 0.0027839625430494206\n",
      "Kamarajar Deseeya Congress 67 0.000146179851398363\n",
      "All Pensionerâ€™s Party 482 0.001051622214537477\n",
      "All India Youth Development Party 280 0.0006109008715155468\n",
      "Indian Union Muslim League 222263 0.4849309300202143\n",
      "All India Majlis-E-Ittehadul Muslimeen 3134 0.006837726183320443\n",
      "Akhil Bharat Hindu Mahasabha 1930 0.004210852435803591\n",
      "Anaithu Makkal Puratchi Katchi 7040 0.015359793340962323\n",
      "Rashtriya Ulama Council 82 0.00017890668380098157\n",
      "All India Uzhavargal Uzhaippalargal Katchi 1594 0.0034777713899849347\n",
      "Makkal Nala Kazhagam 519 0.001132348401130603\n",
      "Samaniya Makkal Nala Katchi 1933 0.0042173978022841145\n",
      "Anna Puratchi Thalaivar Amma Dravida Munnetra Kazhagam 6934 0.015128523725317151\n",
      "National People's Party 1187 0.002589783337460551\n",
      "Communist Party of India 504537 1.100793189327998\n",
      "Samajwadi Party 162 0.0003534497899482807\n",
      "Dhesiya Makkal Kazhagam 3532 0.007706078136403256\n",
      "Communist Party of India  (Marxist) 390819 0.8526845275172661\n",
      "Anna Dravidar Kazhagam 4198 0.009159149495079521\n",
      "Ganasangam Party of India 3246 0.007082086531926661\n",
      "Anaithindia Samudaya Munnetra Kazhagam 112 0.00024436034860621876\n",
      "MAKKAL SAKTHI KATCHI 112 0.00024436034860621876\n",
      "All  India  Pattali  Munnetra Katchi 351 0.0007658078782212749\n",
      "Indhia Kudiarasu Katchi 110 0.0002399967709525363\n",
      "Ambedkarite Party of India 1203 0.0026246919586900104\n",
      "Tamilaga Makkal Thannurimai Katchi 2690 0.005869011944202933\n",
      "Ahimsa Socialist Party 2716 0.005925738453700805\n",
      "Manitha Urimaigal Kalaagam 527 0.001149802711745333\n",
      "Namathu Kongu Munnetra Kalagam 425 0.0009272602514075265\n",
      "Makkal Thilagam Munnetra Kazhagam, 102 0.00022254246033780636\n",
      "India Dravida Makkal Munnetra Katchi 956 0.0020857901184602244\n",
      "Kongu  Desa  Marumalarchi  Makkal  Katchi 943 0.0020574268637112885\n",
      "All India Trinamool Congress 963 0.002101062640248113\n",
      "Ezhuchi Tamilargal Munnetra Kazhagam 268 0.000584719405593452\n",
      "Hindustan Janta Party 73 0.00015927058435941043\n",
      "Makkal Sananayaga Kudiyarasu Katchi, 295 0.0006436277039181654\n",
      "Anaithu Makkal Munnetra Kazhagam 232 0.0005061750078271674\n",
      "Rashtriya Samaj Paksha 361 0.0007876257664896873\n",
      "Vidial Valarchi Perani 105 0.00022908782681833008\n",
      "Akila India Vallalar Peravai 379 0.0008268979653728295\n",
      "Janata Dal  (Secular) 1189 0.002594146915114233\n",
      "Ilantamilar Munnani Kazhagam 146 0.00031854116871882085\n",
      "All India Samathuva Makhal Katchi 6583 0.014362715847095876\n",
      "People's Party of India(secular) 331 0.0007221721016844501\n",
      "Namadhu Makkal Katchi 1478 0.003224683886071351\n",
      "Akhila India Jananayaka Makkal Katchi (Dr. Isaac) 168 0.0003665405229093281\n",
      "Tamil Telugu National Party 176 0.000383994833524058\n",
      "Ambedkar Political Party 177 0.0003861766223508993\n",
      "All India MGR Makkal Munnetra Kazhagam 622 0.0013570726502952506\n",
      "Naam Indiar Party 4073 0.008886425891724366\n",
      "Desa Makkal Munnetrak Kazhgam 200 0.00043635776536824774\n",
      "South India Forward Bloc 404 0.0008814426860438605\n",
      "Aanaithinthiya Jananayaka Pathukappu Kazhagam 562 0.0012261653206847762\n",
      "Universal Brotherhood Movement 99 0.00021599709385728268\n",
      "Anaithu Ulaga Tamilargal Munnetra Kalagam 497 0.0010843490469400958\n",
      "Ulaga Makkal Katchi 235 0.0005127203743076911\n",
      "Tamilnadu Mahatma Gandhi Makkal Katchi 162 0.0003534497899482807\n"
     ]
    }
   ],
   "source": [
    " with open('vote_percentage.csv', 'r') as file:\n",
    "        reader = csv.reader(file)\n",
    "        next(reader)\n",
    "        total = 0\n",
    "        for party, votes, percentage in reader:\n",
    "            print(party, votes, percentage)"
   ]
  },
  {
   "cell_type": "code",
   "execution_count": 6,
   "id": "seasonal-police",
   "metadata": {},
   "outputs": [
    {
     "data": {
      "text/plain": [
       "100.00000000000001"
      ]
     },
     "execution_count": 6,
     "metadata": {},
     "output_type": "execute_result"
    }
   ],
   "source": [
    "total"
   ]
  },
  {
   "cell_type": "code",
   "execution_count": null,
   "id": "similar-newsletter",
   "metadata": {},
   "outputs": [],
   "source": []
  }
 ],
 "metadata": {
  "kernelspec": {
   "display_name": "Python 3",
   "language": "python",
   "name": "python3"
  },
  "language_info": {
   "codemirror_mode": {
    "name": "ipython",
    "version": 3
   },
   "file_extension": ".py",
   "mimetype": "text/x-python",
   "name": "python",
   "nbconvert_exporter": "python",
   "pygments_lexer": "ipython3",
   "version": "3.9.1"
  }
 },
 "nbformat": 4,
 "nbformat_minor": 5
}
