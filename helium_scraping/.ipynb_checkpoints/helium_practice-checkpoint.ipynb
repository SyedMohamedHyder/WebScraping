{
 "cells": [
  {
   "cell_type": "code",
   "execution_count": 3,
   "id": "vocational-wagon",
   "metadata": {},
   "outputs": [],
   "source": [
    "import helium"
   ]
  },
  {
   "cell_type": "markdown",
   "id": "bound-heavy",
   "metadata": {},
   "source": [
    "* Create directory C:\\bin\n",
    "* Download chromedriver for Windows and save to C:\\bin\n",
    "* Open Command Prompt and set the PATH for your account\n",
    "* setx PATH \"%PATH%;C:\\bin\"\n",
    "* RESTART Command Prompt. Changes made by setx will only be picked up in new instances of Command Prompt\n",
    "* Verify setup with chromedriver.exe -v "
   ]
  },
  {
   "cell_type": "code",
   "execution_count": 4,
   "id": "aboriginal-gamma",
   "metadata": {
    "scrolled": true
   },
   "outputs": [
    {
     "data": {
      "text/plain": [
       "<selenium.webdriver.chrome.webdriver.WebDriver (session=\"05516515fd8328b4d6f88614cfa745d1\")>"
      ]
     },
     "execution_count": 4,
     "metadata": {},
     "output_type": "execute_result"
    }
   ],
   "source": [
    "helium.start_chrome()"
   ]
  },
  {
   "cell_type": "code",
   "execution_count": 5,
   "id": "intense-stand",
   "metadata": {},
   "outputs": [],
   "source": [
    "helium.go_to('youtube.com')"
   ]
  },
  {
   "cell_type": "code",
   "execution_count": 6,
   "id": "different-worse",
   "metadata": {},
   "outputs": [],
   "source": [
    "helium.write('John Watson Rooney', into='search')"
   ]
  },
  {
   "cell_type": "code",
   "execution_count": 8,
   "id": "behind-pressure",
   "metadata": {},
   "outputs": [],
   "source": [
    "helium.press(helium.RETURN)"
   ]
  },
  {
   "cell_type": "code",
   "execution_count": 9,
   "id": "voluntary-jenny",
   "metadata": {},
   "outputs": [
    {
     "name": "stdout",
     "output_type": "stream",
     "text": [
      "Help on function click in module helium:\n",
      "\n",
      "click(element)\n",
      "    :param element: The element or point to click.\n",
      "    :type element: str, unicode, :py:class:`HTMLElement`, :py:class:`selenium.webdriver.remote.webelement.WebElement` or :py:class:`Point`\n",
      "    \n",
      "    Clicks on the given element or point. Common examples are::\n",
      "    \n",
      "            click(\"Sign in\")\n",
      "            click(Button(\"OK\"))\n",
      "            click(Point(200, 300))\n",
      "            click(ComboBox(\"File type\").top_left + (50, 0))\n",
      "\n"
     ]
    }
   ],
   "source": [
    "help(helium.click)"
   ]
  },
  {
   "cell_type": "code",
   "execution_count": 10,
   "id": "received-driver",
   "metadata": {},
   "outputs": [],
   "source": [
    "helium.click('John Watson Rooney')"
   ]
  },
  {
   "cell_type": "code",
   "execution_count": 11,
   "id": "handled-daughter",
   "metadata": {},
   "outputs": [],
   "source": [
    "helium.click('videos')"
   ]
  },
  {
   "cell_type": "code",
   "execution_count": null,
   "id": "explicit-break",
   "metadata": {},
   "outputs": [],
   "source": []
  }
 ],
 "metadata": {
  "kernelspec": {
   "display_name": "Python 3",
   "language": "python",
   "name": "python3"
  },
  "language_info": {
   "codemirror_mode": {
    "name": "ipython",
    "version": 3
   },
   "file_extension": ".py",
   "mimetype": "text/x-python",
   "name": "python",
   "nbconvert_exporter": "python",
   "pygments_lexer": "ipython3",
   "version": "3.9.1"
  }
 },
 "nbformat": 4,
 "nbformat_minor": 5
}
