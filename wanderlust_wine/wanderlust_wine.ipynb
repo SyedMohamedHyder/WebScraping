{
 "cells": [
  {
   "cell_type": "code",
   "execution_count": 1,
   "id": "quarterly-recall",
   "metadata": {},
   "outputs": [],
   "source": [
    "import requests\n",
    "from bs4 import BeautifulSoup"
   ]
  },
  {
   "cell_type": "code",
   "execution_count": 3,
   "id": "covered-salad",
   "metadata": {},
   "outputs": [
    {
     "data": {
      "text/plain": [
       "200"
      ]
     },
     "execution_count": 3,
     "metadata": {},
     "output_type": "execute_result"
    }
   ],
   "source": [
    "response.status_code"
   ]
  },
  {
   "cell_type": "code",
   "execution_count": 13,
   "id": "future-thanksgiving",
   "metadata": {},
   "outputs": [],
   "source": [
    "def page_html(url, headers):\n",
    "    response = requests.get(url, headers)\n",
    "    html = response.text\n",
    "    return BeautifulSoup(html, 'html.parser')"
   ]
  },
  {
   "cell_type": "code",
   "execution_count": 14,
   "id": "laughing-lucas",
   "metadata": {},
   "outputs": [],
   "source": [
    "def find_price(soup):\n",
    "    wine = (wine_tag.text\n",
    "        for wine_tag in soup.find_all('h2', {'class': 'woocommerce-loop-product__title'}))\n",
    "    price = (price_tag.text\n",
    "        for price_tag in soup.find_all('span', {'class': 'woocommerce-Price-amount amount'}))\n",
    "    return zip(wine, price)"
   ]
  },
  {
   "cell_type": "code",
   "execution_count": 17,
   "id": "connected-shopping",
   "metadata": {},
   "outputs": [],
   "source": [
    "headers = {'User-Agent': 'Mozilla/5.0 (Windows NT 10.0; Win64; x64) AppleWebKit/537.36 (KHTML, like Gecko) Chrome/89.0.4389.114 Safari/537.36'}\n",
    "url = 'https://wanderlustwine.co.uk/buy-wine-online/?limit=200'\n",
    "soup = page_html(url, headers)\n",
    "wine = list(find_price(soup))"
   ]
  },
  {
   "cell_type": "code",
   "execution_count": 18,
   "id": "stunning-joining",
   "metadata": {},
   "outputs": [
    {
     "data": {
      "text/plain": [
       "40"
      ]
     },
     "execution_count": 18,
     "metadata": {},
     "output_type": "execute_result"
    }
   ],
   "source": [
    "len(wine)"
   ]
  },
  {
   "cell_type": "code",
   "execution_count": null,
   "id": "infinite-substitute",
   "metadata": {},
   "outputs": [],
   "source": []
  }
 ],
 "metadata": {
  "kernelspec": {
   "display_name": "Python 3",
   "language": "python",
   "name": "python3"
  },
  "language_info": {
   "codemirror_mode": {
    "name": "ipython",
    "version": 3
   },
   "file_extension": ".py",
   "mimetype": "text/x-python",
   "name": "python",
   "nbconvert_exporter": "python",
   "pygments_lexer": "ipython3",
   "version": "3.9.1"
  }
 },
 "nbformat": 4,
 "nbformat_minor": 5
}
