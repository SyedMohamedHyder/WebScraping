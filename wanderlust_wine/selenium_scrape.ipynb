{
 "cells": [
  {
   "cell_type": "code",
   "execution_count": 1,
   "id": "altered-mexico",
   "metadata": {},
   "outputs": [],
   "source": [
    "from selenium import webdriver\n",
    "from selenium.webdriver.common.keys import Keys\n",
    "from selenium.webdriver.support.ui import WebDriverWait\n",
    "\n",
    "from webdriver_manager.chrome import ChromeDriverManager"
   ]
  },
  {
   "cell_type": "code",
   "execution_count": 2,
   "id": "antique-genealogy",
   "metadata": {},
   "outputs": [],
   "source": [
    "from time import sleep"
   ]
  },
  {
   "cell_type": "code",
   "execution_count": 3,
   "id": "temporal-hungarian",
   "metadata": {
    "scrolled": true
   },
   "outputs": [
    {
     "name": "stderr",
     "output_type": "stream",
     "text": [
      "[WDM] - ====== WebDriver manager ======\n",
      "[WDM] - Current google-chrome version is 89.0.4389\n",
      "[WDM] - Get LATEST driver version for 89.0.4389\n"
     ]
    },
    {
     "name": "stdout",
     "output_type": "stream",
     "text": [
      "\n",
      "\n"
     ]
    },
    {
     "name": "stderr",
     "output_type": "stream",
     "text": [
      "[WDM] - Driver [C:\\Users\\ASUS\\.wdm\\drivers\\chromedriver\\win32\\89.0.4389.23\\chromedriver.exe] found in cache\n"
     ]
    },
    {
     "name": "stdout",
     "output_type": "stream",
     "text": [
      "Source\n"
     ]
    }
   ],
   "source": [
    "driver = webdriver.Chrome(ChromeDriverManager().install())\n",
    "driver.get('https://wanderlustwine.co.uk/buy-wine-online/')\n",
    "driver.implicitly_wait(10)\n",
    "driver.execute_script(\"window.scrollTo(0, document.body.scrollHeight)\")\n",
    "driver.implicitly_wait(10)\n",
    "driver.find_element_by_tag_name('body').send_keys(Keys.PAGE_DOWN)\n",
    "sleep(100)\n",
    "print('Source')\n",
    "html = driver.page_source\n",
    "driver.quit()"
   ]
  },
  {
   "cell_type": "code",
   "execution_count": 5,
   "id": "whole-meter",
   "metadata": {},
   "outputs": [],
   "source": [
    "from bs4 import BeautifulSoup"
   ]
  },
  {
   "cell_type": "code",
   "execution_count": 6,
   "id": "unexpected-background",
   "metadata": {},
   "outputs": [],
   "source": [
    "def page_html(html):\n",
    "    return BeautifulSoup(html, 'html.parser')"
   ]
  },
  {
   "cell_type": "code",
   "execution_count": 7,
   "id": "moderate-effort",
   "metadata": {},
   "outputs": [],
   "source": [
    "soup = page_html(html)"
   ]
  },
  {
   "cell_type": "code",
   "execution_count": 8,
   "id": "modern-siemens",
   "metadata": {},
   "outputs": [],
   "source": [
    "def find_price(soup):\n",
    "    wine = (wine_tag.text\n",
    "        for wine_tag in soup.find_all('h2', {'class': 'woocommerce-loop-product__title'}))\n",
    "    price = (price_tag.text\n",
    "        for price_tag in soup.find_all('span', {'class': 'woocommerce-Price-amount amount'}))\n",
    "    return zip(wine, price)"
   ]
  },
  {
   "cell_type": "code",
   "execution_count": 9,
   "id": "sharing-disability",
   "metadata": {},
   "outputs": [],
   "source": [
    "wine = list(find_price(soup))"
   ]
  },
  {
   "cell_type": "code",
   "execution_count": 10,
   "id": "optimum-reynolds",
   "metadata": {},
   "outputs": [
    {
     "data": {
      "text/plain": [
       "443"
      ]
     },
     "execution_count": 10,
     "metadata": {},
     "output_type": "execute_result"
    }
   ],
   "source": [
    "len(wine)"
   ]
  },
  {
   "cell_type": "code",
   "execution_count": 11,
   "id": "smart-pharmacy",
   "metadata": {},
   "outputs": [
    {
     "data": {
      "text/plain": [
       "[(' Coravin Model Two Wine System', '£172.00'),\n",
       " (' Coravin Model Two Elite Piano Black', '£175.00'),\n",
       " (' Coravin Model Two Elite Silver – Wine System', '£194.00'),\n",
       " (' Wanderlust Wine Discovery Case (12 bottles)', '£200.00'),\n",
       " (' 2020 Best Sellers Case (mixed 10 bottles)', '£211.00'),\n",
       " (' Vintage Ridge Monte Bello 1999', '£240.00'),\n",
       " (' Vintage Ridge Monte Bello 2013', '£250.00'),\n",
       " (' Vintage Ridge Monte Bello 2015', '£250.00'),\n",
       " (' Vintage Billecart Salmon Nicolas Francois 2002 Magnum', '£269.00')]"
      ]
     },
     "execution_count": 11,
     "metadata": {},
     "output_type": "execute_result"
    }
   ],
   "source": [
    "wine[-10:-1]"
   ]
  },
  {
   "cell_type": "code",
   "execution_count": 12,
   "id": "regional-programming",
   "metadata": {},
   "outputs": [],
   "source": [
    "import csv"
   ]
  },
  {
   "cell_type": "code",
   "execution_count": 13,
   "id": "functioning-serbia",
   "metadata": {},
   "outputs": [],
   "source": [
    "with open('wanderlust_wine.csv', 'w') as file:\n",
    "    writer = csv.writer(file)\n",
    "    writer.writerow(('wine', 'price'))\n",
    "    writer.writerows(wine)"
   ]
  },
  {
   "cell_type": "code",
   "execution_count": null,
   "id": "artificial-reconstruction",
   "metadata": {},
   "outputs": [],
   "source": []
  }
 ],
 "metadata": {
  "kernelspec": {
   "display_name": "Python 3",
   "language": "python",
   "name": "python3"
  },
  "language_info": {
   "codemirror_mode": {
    "name": "ipython",
    "version": 3
   },
   "file_extension": ".py",
   "mimetype": "text/x-python",
   "name": "python",
   "nbconvert_exporter": "python",
   "pygments_lexer": "ipython3",
   "version": "3.9.1"
  }
 },
 "nbformat": 4,
 "nbformat_minor": 5
}
