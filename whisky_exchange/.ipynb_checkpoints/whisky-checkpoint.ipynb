{
 "cells": [
  {
   "cell_type": "code",
   "execution_count": 1,
   "id": "split-sigma",
   "metadata": {},
   "outputs": [],
   "source": [
    "import requests\n",
    "from bs4 import BeautifulSoup"
   ]
  },
  {
   "cell_type": "code",
   "execution_count": 20,
   "id": "little-shopping",
   "metadata": {},
   "outputs": [],
   "source": [
    "def get_whiskies():\n",
    "    headers = {\n",
    "        'authority': 'www.thewhiskyexchange.com',\n",
    "        'cache-control': 'max-age=0',\n",
    "        'sec-ch-ua': '^\\\\^Google',\n",
    "        'sec-ch-ua-mobile': '?0',\n",
    "        'upgrade-insecure-requests': '1',\n",
    "        'user-agent': 'Mozilla/5.0 (Windows NT 10.0; Win64; x64) AppleWebKit/537.36 (KHTML, like Gecko) Chrome/89.0.4389.114 Safari/537.36',\n",
    "        'accept': 'text/html,application/xhtml+xml,application/xml;q=0.9,image/avif,image/webp,image/apng,*/*;q=0.8,application/signed-exchange;v=b3;q=0.9',\n",
    "        'sec-fetch-site': 'same-origin',\n",
    "        'sec-fetch-mode': 'navigate',\n",
    "        'sec-fetch-user': '?1',\n",
    "        'sec-fetch-dest': 'document',\n",
    "        'referer': 'https://www.thewhiskyexchange.com/',\n",
    "        'accept-language': 'en-GB,en-US;q=0.9,en;q=0.8',\n",
    "    }\n",
    "\n",
    "    params = (\n",
    "        ('pg', '1'),\n",
    "        ('psize', '50'),\n",
    "        ('sort', 'pasc'),\n",
    "    )\n",
    "\n",
    "    response = requests.get('https://www.thewhiskyexchange.com/c/317/indian-whisky', headers=headers, params=params)\n",
    "    html = response.text\n",
    "    soup = BeautifulSoup(html, 'html.parser')\n",
    "    \n",
    "    return soup\n",
    "    #NB. Original query string below. It seems impossible to parse and\n",
    "    #reproduce query strings 100% accurately so the one below is given\n",
    "    #in case the reproduced version is not \"correct\".\n",
    "    # response = requests.get('https://www.thewhiskyexchange.com/c/317/indian-whisky?pg=2&psize=24&sort=pasc', headers=headers)\n"
   ]
  },
  {
   "cell_type": "code",
   "execution_count": 21,
   "id": "individual-longer",
   "metadata": {},
   "outputs": [],
   "source": [
    "base_url = 'https://www.thewhiskyexchange.com'"
   ]
  },
  {
   "cell_type": "code",
   "execution_count": 22,
   "id": "worthy-notice",
   "metadata": {
    "scrolled": true
   },
   "outputs": [],
   "source": [
    "soup = get_whiskies()"
   ]
  },
  {
   "cell_type": "code",
   "execution_count": 23,
   "id": "through-boost",
   "metadata": {},
   "outputs": [],
   "source": [
    "whiskies = soup.find_all('li', {'class': 'product-grid__item'})\n",
    "whiskies_url = [\n",
    "    f\"{base_url}{whisky.find('a', {'class': 'product-card'})['href']}\"\n",
    "    for whisky in whiskies\n",
    "]"
   ]
  },
  {
   "cell_type": "code",
   "execution_count": 24,
   "id": "analyzed-connectivity",
   "metadata": {},
   "outputs": [
    {
     "data": {
      "text/plain": [
       "['https://www.thewhiskyexchange.com/p/51185/paul-john-nirvana',\n",
       " 'https://www.thewhiskyexchange.com/p/31618/paul-john-bold-peated',\n",
       " 'https://www.thewhiskyexchange.com/p/20020/paul-john-brilliance',\n",
       " 'https://www.thewhiskyexchange.com/p/20019/paul-john-edited',\n",
       " 'https://www.thewhiskyexchange.com/p/9372/amrut-single-malt-46',\n",
       " 'https://www.thewhiskyexchange.com/p/10259/amrut-fusion',\n",
       " 'https://www.thewhiskyexchange.com/p/10257/amrut-peated',\n",
       " 'https://www.thewhiskyexchange.com/p/50505/rampur-double-cask-single-malt-whisky',\n",
       " 'https://www.thewhiskyexchange.com/p/50710/rampur-asava',\n",
       " 'https://www.thewhiskyexchange.com/p/22680/paul-john-classic-select-cask',\n",
       " 'https://www.thewhiskyexchange.com/p/45864/rampur-single-malt-whisky-px-sherry-cask',\n",
       " 'https://www.thewhiskyexchange.com/p/55341/paul-john-pedro-ximenez-select-cask',\n",
       " 'https://www.thewhiskyexchange.com/p/22681/paul-john-peated-select-cask',\n",
       " 'https://www.thewhiskyexchange.com/p/12046/amrut-peated-cask-strength',\n",
       " 'https://www.thewhiskyexchange.com/p/56526/paul-john-6-year-old-batch-3-that-boutique-y-whisky-company',\n",
       " 'https://www.thewhiskyexchange.com/p/58324/mcdowells-indian-single-malt-whisky',\n",
       " 'https://www.thewhiskyexchange.com/p/40662/amrut-two-continents-3rd-edition',\n",
       " 'https://www.thewhiskyexchange.com/p/28637/amrut-naarangi',\n",
       " 'https://www.thewhiskyexchange.com/p/45562/amrut-madeira-finish',\n",
       " 'https://www.thewhiskyexchange.com/p/58973/amrut-kadhambam-2019-release-batch-14',\n",
       " 'https://www.thewhiskyexchange.com/p/51155/amrut-kadhambam-2019-release-batch-15',\n",
       " 'https://www.thewhiskyexchange.com/p/42603/the-ek-5-year-old-malt-whisky-indian-scotch-fusion',\n",
       " 'https://www.thewhiskyexchange.com/p/40665/amrut-double-cask-3rd-edition',\n",
       " 'https://www.thewhiskyexchange.com/p/36940/amrut-double-cask-7-year-old-bot2016',\n",
       " 'https://www.thewhiskyexchange.com/p/42405/paul-john-kanya',\n",
       " 'https://www.thewhiskyexchange.com/p/36939/amrut-peated-port-pipe-60ans-lmdw',\n",
       " 'https://www.thewhiskyexchange.com/p/36938/amrut-rye-single-malt',\n",
       " 'https://www.thewhiskyexchange.com/p/40315/amrut-greedy-angels-8-year-old-bot2017',\n",
       " 'https://www.thewhiskyexchange.com/p/53358/amrut-greedy-angels-10-year-old-peated-rum-finish',\n",
       " 'https://www.thewhiskyexchange.com/p/45920/rampur-single-malt-signature-reserve']"
      ]
     },
     "execution_count": 24,
     "metadata": {},
     "output_type": "execute_result"
    }
   ],
   "source": [
    "whiskies_url"
   ]
  },
  {
   "cell_type": "code",
   "execution_count": 25,
   "id": "filled-serbia",
   "metadata": {},
   "outputs": [
    {
     "data": {
      "text/plain": [
       "30"
      ]
     },
     "execution_count": 25,
     "metadata": {},
     "output_type": "execute_result"
    }
   ],
   "source": [
    "len(whiskies_url)"
   ]
  },
  {
   "cell_type": "code",
   "execution_count": 26,
   "id": "preliminary-wallet",
   "metadata": {},
   "outputs": [],
   "source": [
    "def get_whiskies_url():\n",
    "    headers = {\n",
    "        'authority': 'www.thewhiskyexchange.com',\n",
    "        'cache-control': 'max-age=0',\n",
    "        'sec-ch-ua': '^\\\\^Google',\n",
    "        'sec-ch-ua-mobile': '?0',\n",
    "        'upgrade-insecure-requests': '1',\n",
    "        'user-agent': 'Mozilla/5.0 (Windows NT 10.0; Win64; x64) AppleWebKit/537.36 (KHTML, like Gecko) Chrome/89.0.4389.114 Safari/537.36',\n",
    "        'accept': 'text/html,application/xhtml+xml,application/xml;q=0.9,image/avif,image/webp,image/apng,*/*;q=0.8,application/signed-exchange;v=b3;q=0.9',\n",
    "        'sec-fetch-site': 'same-origin',\n",
    "        'sec-fetch-mode': 'navigate',\n",
    "        'sec-fetch-user': '?1',\n",
    "        'sec-fetch-dest': 'document',\n",
    "        'referer': 'https://www.thewhiskyexchange.com/',\n",
    "        'accept-language': 'en-GB,en-US;q=0.9,en;q=0.8',\n",
    "    }\n",
    "\n",
    "    params = (\n",
    "        ('pg', '1'),\n",
    "        ('psize', '50'),\n",
    "        ('sort', 'pasc'),\n",
    "    )\n",
    "\n",
    "    response = requests.get('https://www.thewhiskyexchange.com/c/317/indian-whisky', headers=headers, params=params)\n",
    "    html = response.text\n",
    "    soup = BeautifulSoup(html, 'html.parser')\n",
    "    \n",
    "    whiskies = soup.find_all('li', {'class': 'product-grid__item'})\n",
    "    \n",
    "    for whisky in whiskies:\n",
    "        yield f\"{base_url}{whisky.find('a', {'class': 'product-card'})['href']}\"\n",
    "    \n",
    "    #NB. Original query string below. It seems impossible to parse and\n",
    "    #reproduce query strings 100% accurately so the one below is given\n",
    "    #in case the reproduced version is not \"correct\".\n",
    "    # response = requests.get('https://www.thewhiskyexchange.com/c/317/indian-whisky?pg=2&psize=24&sort=pasc', headers=headers)\n"
   ]
  },
  {
   "cell_type": "code",
   "execution_count": 29,
   "id": "configured-catch",
   "metadata": {},
   "outputs": [],
   "source": [
    "whiskies_url = get_whiskies_url()"
   ]
  },
  {
   "cell_type": "code",
   "execution_count": 30,
   "id": "reflected-palestinian",
   "metadata": {},
   "outputs": [],
   "source": [
    "whisky1 = next(whiskies_url)"
   ]
  },
  {
   "cell_type": "code",
   "execution_count": 31,
   "id": "spanish-communication",
   "metadata": {},
   "outputs": [
    {
     "data": {
      "text/plain": [
       "['https://www.thewhiskyexchange.com/p/31618/paul-john-bold-peated',\n",
       " 'https://www.thewhiskyexchange.com/p/20020/paul-john-brilliance',\n",
       " 'https://www.thewhiskyexchange.com/p/20019/paul-john-edited',\n",
       " 'https://www.thewhiskyexchange.com/p/9372/amrut-single-malt-46',\n",
       " 'https://www.thewhiskyexchange.com/p/10259/amrut-fusion',\n",
       " 'https://www.thewhiskyexchange.com/p/10257/amrut-peated',\n",
       " 'https://www.thewhiskyexchange.com/p/50505/rampur-double-cask-single-malt-whisky',\n",
       " 'https://www.thewhiskyexchange.com/p/50710/rampur-asava',\n",
       " 'https://www.thewhiskyexchange.com/p/22680/paul-john-classic-select-cask',\n",
       " 'https://www.thewhiskyexchange.com/p/45864/rampur-single-malt-whisky-px-sherry-cask',\n",
       " 'https://www.thewhiskyexchange.com/p/55341/paul-john-pedro-ximenez-select-cask',\n",
       " 'https://www.thewhiskyexchange.com/p/22681/paul-john-peated-select-cask',\n",
       " 'https://www.thewhiskyexchange.com/p/12046/amrut-peated-cask-strength',\n",
       " 'https://www.thewhiskyexchange.com/p/56526/paul-john-6-year-old-batch-3-that-boutique-y-whisky-company',\n",
       " 'https://www.thewhiskyexchange.com/p/58324/mcdowells-indian-single-malt-whisky',\n",
       " 'https://www.thewhiskyexchange.com/p/40662/amrut-two-continents-3rd-edition',\n",
       " 'https://www.thewhiskyexchange.com/p/28637/amrut-naarangi',\n",
       " 'https://www.thewhiskyexchange.com/p/45562/amrut-madeira-finish',\n",
       " 'https://www.thewhiskyexchange.com/p/58973/amrut-kadhambam-2019-release-batch-14',\n",
       " 'https://www.thewhiskyexchange.com/p/51155/amrut-kadhambam-2019-release-batch-15',\n",
       " 'https://www.thewhiskyexchange.com/p/42603/the-ek-5-year-old-malt-whisky-indian-scotch-fusion',\n",
       " 'https://www.thewhiskyexchange.com/p/40665/amrut-double-cask-3rd-edition',\n",
       " 'https://www.thewhiskyexchange.com/p/36940/amrut-double-cask-7-year-old-bot2016',\n",
       " 'https://www.thewhiskyexchange.com/p/42405/paul-john-kanya',\n",
       " 'https://www.thewhiskyexchange.com/p/36939/amrut-peated-port-pipe-60ans-lmdw',\n",
       " 'https://www.thewhiskyexchange.com/p/36938/amrut-rye-single-malt',\n",
       " 'https://www.thewhiskyexchange.com/p/40315/amrut-greedy-angels-8-year-old-bot2017',\n",
       " 'https://www.thewhiskyexchange.com/p/53358/amrut-greedy-angels-10-year-old-peated-rum-finish',\n",
       " 'https://www.thewhiskyexchange.com/p/45920/rampur-single-malt-signature-reserve']"
      ]
     },
     "execution_count": 31,
     "metadata": {},
     "output_type": "execute_result"
    }
   ],
   "source": [
    "list(whiskies_url)"
   ]
  },
  {
   "cell_type": "code",
   "execution_count": 32,
   "id": "republican-darwin",
   "metadata": {},
   "outputs": [],
   "source": [
    "def get_page_html(url):\n",
    "    response = requests.get(url)\n",
    "    html = response.text\n",
    "    soup = BeautifulSoup(html, 'html.parser')\n",
    "    return soup"
   ]
  },
  {
   "cell_type": "code",
   "execution_count": 33,
   "id": "divine-style",
   "metadata": {},
   "outputs": [],
   "source": [
    "whisky1_soup = get_page_html(whisky1)"
   ]
  },
  {
   "cell_type": "code",
   "execution_count": 35,
   "id": "laughing-graph",
   "metadata": {},
   "outputs": [
    {
     "data": {
      "text/plain": [
       "'Paul John Nirvana'"
      ]
     },
     "execution_count": 35,
     "metadata": {},
     "output_type": "execute_result"
    }
   ],
   "source": [
    "whisky1_soup.find('h1', {'class': 'product-main__name'}).text.strip()"
   ]
  },
  {
   "cell_type": "code",
   "execution_count": 36,
   "id": "after-spectrum",
   "metadata": {},
   "outputs": [
    {
     "data": {
      "text/plain": [
       "'70cl / 40%'"
      ]
     },
     "execution_count": 36,
     "metadata": {},
     "output_type": "execute_result"
    }
   ],
   "source": [
    "whisky1_soup.find('p', {'class': 'product-main__data'}).text.strip()"
   ]
  },
  {
   "cell_type": "code",
   "execution_count": 61,
   "id": "reported-tobago",
   "metadata": {},
   "outputs": [],
   "source": [
    "ratings = whisky1_soup.find('p', {'class': 'review-overview__content'})"
   ]
  },
  {
   "cell_type": "code",
   "execution_count": 62,
   "id": "civilian-requirement",
   "metadata": {},
   "outputs": [
    {
     "data": {
      "text/plain": [
       "<p class=\"review-overview__content\">\n",
       "<span class=\"review-overview__rating star-rating star-rating--30\">\n",
       "<span>\n",
       "3\n",
       "</span>\n",
       "</span>\n",
       "<span class=\"review-overview__count\">(6 Reviews)\n",
       "</span>\n",
       "</p>"
      ]
     },
     "execution_count": 62,
     "metadata": {},
     "output_type": "execute_result"
    }
   ],
   "source": [
    "ratings"
   ]
  },
  {
   "cell_type": "code",
   "execution_count": 64,
   "id": "ordered-start",
   "metadata": {},
   "outputs": [
    {
     "data": {
      "text/plain": [
       "'3'"
      ]
     },
     "execution_count": 64,
     "metadata": {},
     "output_type": "execute_result"
    }
   ],
   "source": [
    "ratings.span.span.text.strip()"
   ]
  },
  {
   "cell_type": "code",
   "execution_count": 66,
   "id": "disturbed-moscow",
   "metadata": {},
   "outputs": [],
   "source": [
    "reviews = ratings.find('span', {'class': 'review-overview__count'}).text.strip()"
   ]
  },
  {
   "cell_type": "code",
   "execution_count": 67,
   "id": "fossil-flavor",
   "metadata": {},
   "outputs": [],
   "source": [
    "import re"
   ]
  },
  {
   "cell_type": "code",
   "execution_count": 72,
   "id": "environmental-criterion",
   "metadata": {},
   "outputs": [
    {
     "data": {
      "text/plain": [
       "'6'"
      ]
     },
     "execution_count": 72,
     "metadata": {},
     "output_type": "execute_result"
    }
   ],
   "source": [
    "re.split('\\W', reviews)[1]"
   ]
  },
  {
   "cell_type": "code",
   "execution_count": 74,
   "id": "unlimited-narrative",
   "metadata": {},
   "outputs": [
    {
     "data": {
      "text/plain": [
       "'A fruity, lively unpeated single malt from Indian distillery Paul John. Aromas of fruitcake, honeycomb and caramel fill the nose, and the palate offers notes of apricots, raisins, honey, apples and salted caramel.'"
      ]
     },
     "execution_count": 74,
     "metadata": {},
     "output_type": "execute_result"
    }
   ],
   "source": [
    "whisky1_soup.find('div', {'class': 'product-main__description'}).text.strip()"
   ]
  },
  {
   "cell_type": "code",
   "execution_count": 75,
   "id": "reported-oasis",
   "metadata": {},
   "outputs": [
    {
     "data": {
      "text/plain": [
       "'In Stock'"
      ]
     },
     "execution_count": 75,
     "metadata": {},
     "output_type": "execute_result"
    }
   ],
   "source": [
    "whisky1_soup.find('p', {'class': 'product-action__stock-flag'}).text.strip()"
   ]
  },
  {
   "cell_type": "code",
   "execution_count": 77,
   "id": "herbal-ratio",
   "metadata": {},
   "outputs": [
    {
     "data": {
      "text/plain": [
       "'£30.95'"
      ]
     },
     "execution_count": 77,
     "metadata": {},
     "output_type": "execute_result"
    }
   ],
   "source": [
    "whisky1_soup.find('p', {'class': 'product-action__price'}).text.strip()"
   ]
  },
  {
   "cell_type": "code",
   "execution_count": 84,
   "id": "mobile-grenada",
   "metadata": {},
   "outputs": [],
   "source": [
    "def get_whisky_info(whisky_soup):\n",
    "    ratings = whisky_soup.find('p', {'class': 'review-overview__content'})\n",
    "    try:\n",
    "        reviews = ratings.find('span', {'class': 'review-overview__count'}).text.strip()\n",
    "    except AttributeError:\n",
    "        reviews = None\n",
    "    finally:\n",
    "        return {\n",
    "            'brand': whisky_soup.find('h1', {'class': 'product-main__name'}).text.strip(),\n",
    "            'mixing': whisky_soup.find('p', {'class': 'product-main__data'}).text.strip(),\n",
    "            'rating': ratings and ratings.span.span.text.strip(),\n",
    "            'reviews': reviews and re.split('\\W', reviews)[1],\n",
    "            'description': whisky_soup.find('div', {'class': 'product-main__description'}).text.strip(),\n",
    "            'stock': whisky_soup.find('p', {'class': 'product-action__stock-flag'}).text.strip(),\n",
    "            'cost': whisky_soup.find('p', {'class': 'product-action__price'}).text.strip()\n",
    "        }"
   ]
  },
  {
   "cell_type": "code",
   "execution_count": 85,
   "id": "handy-winner",
   "metadata": {},
   "outputs": [
    {
     "data": {
      "text/plain": [
       "{'brand': 'Paul John Nirvana',\n",
       " 'mixing': '70cl / 40%',\n",
       " 'rating': '3',\n",
       " 'reviews': '6',\n",
       " 'description': 'A fruity, lively unpeated single malt from Indian distillery Paul John. Aromas of fruitcake, honeycomb and caramel fill the nose, and the palate offers notes of apricots, raisins, honey, apples and salted caramel.',\n",
       " 'stock': 'In Stock',\n",
       " 'cost': '£30.95'}"
      ]
     },
     "execution_count": 85,
     "metadata": {},
     "output_type": "execute_result"
    }
   ],
   "source": [
    "get_whisky_info(whisky1_soup)"
   ]
  },
  {
   "cell_type": "code",
   "execution_count": 86,
   "id": "included-emphasis",
   "metadata": {
    "scrolled": false
   },
   "outputs": [
    {
     "name": "stdout",
     "output_type": "stream",
     "text": [
      "{'brand': 'Paul John Nirvana', 'mixing': '70cl / 40%', 'rating': '3', 'reviews': '6', 'description': 'A fruity, lively unpeated single malt from Indian distillery Paul John. Aromas of fruitcake, honeycomb and caramel fill the nose, and the palate offers notes of apricots, raisins, honey, apples and salted caramel.', 'stock': 'In Stock', 'cost': '£30.95'}\n",
      "{'brand': 'Paul John Bold\\nPeated', 'mixing': '70cl / 46%', 'rating': '5', 'reviews': '8', 'description': 'Bold was a 2015 addition to the core range. This is made entirely with Indian barley smoked using Islay peat to around 25ppm. A superb alternative to classic peated Scotch whisky.', 'stock': 'In Stock', 'cost': '£40.25'}\n",
      "{'brand': 'Paul John Brilliance', 'mixing': '70cl / 46%', 'rating': '4.5', 'reviews': '23', 'description': \"An unpeated whisky from Paul John Distillers, released in early 2013 to much acclaim. It's made using barley from the foothills of the Himalayas and is distilled and matured in Goa, producing a fruity spirit with a creamy texture.\\n\\nTasting Notes (1)\", 'stock': 'In Stock', 'cost': '£40.25'}\n",
      "{'brand': 'Paul John Edited', 'mixing': '70cl / 46%', 'rating': None, 'reviews': None, 'description': 'The ongoing semi-peated whisky from Indian distiller Paul John. It combines their fruity unpeated single malt whisky with some 20-25ppm peated spirit to give a sweet and spicy whisky balanced by an underlying earthy smoke.\\n\\nTasting Notes (1)', 'stock': 'In Stock', 'cost': '£40.25'}\n",
      "{'brand': 'Amrut Single Malt\\n(46%)', 'mixing': '70cl / 46%', 'rating': '4.5', 'reviews': '18', 'description': \"Amrut's flagship Indian single malt, showing their signature character of spice, fruit and honey. Bottled at 46%, it has the depth of flavour needed to properly showcase the distillery. The original Indian single malt and, dare we say it, maybe the best?\", 'stock': 'In Stock', 'cost': '£44.95'}\n",
      "{'brand': 'Amrut Fusion', 'mixing': '70cl / 50%', 'rating': '5', 'reviews': '74', 'description': 'Amrut Fusion gets its name from the fact that it uses two barleys: Indian and Scottish - with the latter being peated for good measure. Fusion has been picking up awards ever since it first appeared in 2009, and in 2012 was named the best whisky for a Rob Roy in the Ultimate Cocktail Challenge in New York.\\n\\nTasting Notes (1)', 'stock': 'In Stock', 'cost': '£53.95'}\n",
      "{'brand': 'Amrut Peated', 'mixing': '70cl / 46%', 'rating': '4.5', 'reviews': '7', 'description': 'The new 46% Amruts are a very different proposition to the pleasant but unexciting original release. At the higher strength this 24ppm peated effort fairly fizzes along the tastebuds. This is excellent - hugely improved stuff from a distillery coming along in leaps and bounds.', 'stock': 'In Stock', 'cost': '£56.75'}\n",
      "{'brand': 'Rampur Double Cask Single Malt Whisky', 'mixing': '70cl / 45%', 'rating': '5', 'reviews': '1', 'description': 'Matured in a combination of ex-bourbon barrels and European oak sherry casks, this Indian single malt from Rampur has a rich, complex character. Aromas of tropical fruits mingle with sweet malt, oak, honey and dried fruits on the nose, and the palate offers notes of dark berries, dried fruits, cinnamon, nutmeg and salted caramel.', 'stock': 'In Stock', 'cost': '£58.95'}\n",
      "{'brand': 'Rampur Asava', 'mixing': '70cl / 45%', 'rating': '5', 'reviews': '2', 'description': 'An Indian single malt from Rampur, distilled in the picturesque foothills of the Himalayas and matured in a combination of ex-bourbon casks and ex-Cabernet Sauvignon casks. Aromas of honeysuckle, lychee and tobacco open on the nose, followed by orange zest, green bananas and sweet baking spices. The palate offers notes of cinnamon and clove, marmalade, savoury malt and sweet lychee, with black pepper lingering in the finish.\\n\\nTasting Notes (1)', 'stock': 'In Stock', 'cost': '£64.95'}\n",
      "{'brand': 'Paul John Classic Select Cask', 'mixing': '70cl / 55.2%', 'rating': '5', 'reviews': '6', 'description': \"An unpeated release from Paul John, produced by Goa's John Distilleries and bottled in 2013 at cask strength. The distillery has been going from strength to strength since first hitting our shores in 2012.\\n\\nTasting Notes (1)\", 'stock': 'In Stock', 'cost': '£65.45'}\n",
      "{'brand': 'Rampur Single Malt Whisky\\nPX Sherry Cask', 'mixing': '70cl / 45%', 'rating': '5', 'reviews': '2', 'description': \"A limited-edition from India's Rampur, a very special sherry-finished edition. It takes Rampur's fruity American-oak matured single malt and finishes it in sweet and sticky Pedro Ximénez sherry butts. The result is a rich and fruity whisky with layers of complex spice and dried fruit.\", 'stock': 'In Stock', 'cost': '£68.95'}\n",
      "{'brand': 'Paul John Pedro Ximenez Select Cask', 'mixing': '70cl / 48%', 'rating': None, 'reviews': None, 'description': 'An exotic Indian single malt from Paul John, finished in Pedro Ximinez sherry casks, creating layers of apricots, figs and banana throughout the palate.', 'stock': 'In Stock', 'cost': '£69.95'}\n",
      "{'brand': 'Paul John Peated Select Cask', 'mixing': '70cl / 55.5%', 'rating': '4.5', 'reviews': '4', 'description': \"A peated bottling from Goa's John Distilleries under their Paul John brand. Produced using peat imported from Scotland (there isn't any in India), it was bottled in 2013 at cask strength. The brand first arrived in the UK in 2012 and continues to go from strength to strength.\\n\\n\\nIndia's John Distilleries was founded in 1992, using six row barley from the Himalayan foothills to create sweet, floral notes in their whiskies.\\n\\nTasting Notes (1)\", 'stock': 'In Stock', 'cost': '£69.95'}\n",
      "{'brand': 'Amrut Peated Cask Strength', 'mixing': '70cl / 62.8%', 'rating': '5', 'reviews': '2', 'description': 'From Amrut distillery, founded in 1948, just one year after Indian independence, this is a stormingly hot and spicy whisky, peated and bottled at a punchy cask strength of 62.8%.\\n\\nTasting Notes (2)', 'stock': 'In Stock', 'cost': '£80.25'}\n",
      "{'brand': 'Paul John 6 Year Old\\nBatch 3 That Boutique-y Whisky Company', 'mixing': '50cl / 52.9%', 'rating': None, 'reviews': None, 'description': 'A six-year-old Indian whisky from Paul John, bottled by That Boutique-y Whisky Company that has been matured in an ex-bourbon cask. Aromas of smoky peat, sweet caramel and sea salt fill the nose, complemented by notes of milk chocolate, vanilla cream and peat smoke on the palate.', 'stock': 'In Stock', 'cost': '£89.95'}\n",
      "{'brand': \"McDowell's\\nIndian Single Malt Whisky\", 'mixing': '75cl / 42.8%', 'rating': None, 'reviews': None, 'description': '', 'stock': 'In Stock', 'cost': '£120'}\n",
      "{'brand': 'Amrut Two Continents\\n3rd Edition', 'mixing': '70cl / 46%', 'rating': '5', 'reviews': '1', 'description': \"The third edition of Amrut's splendid Two Continents, which is distilled and aged in India before being shipped to Europe for further aging. The result is a complex and delicious single malt that features notes of dried fruit, delicate spice, milk chocolate and banana.\", 'stock': 'In Stock', 'cost': '£120'}\n",
      "{'brand': 'Amrut Naarangi', 'mixing': '70cl / 50%', 'rating': '5', 'reviews': '1', 'description': \"Naarangi is an innovative release from India's Amrut. The name is Hindi for 'orange' and the whisky was aged in an ex-oloroso-sherry cask, which was then seasoned with wine and orange peel for three years. A three-year-old whisky was then finished in the cask for a further three years, producing a whisky with extra orangey notes.\", 'stock': 'In Stock', 'cost': '£125'}\n",
      "{'brand': 'Amrut Madeira Finish', 'mixing': '70cl / 50%', 'rating': None, 'reviews': None, 'description': \"A rich and multifaceted whisky aged primarily in ex-bourbon casks before a fairly lengthy finish in ex-Madeira casks sourced from family cooperages in Spain and Portugal. The finish has imbued Amrut's full-bodied spirit with sweet notes of honey and ripe, jammy orange rounded out by some oak-and-grapefruit bitterness and a touch of spice. A fantastic whisky bottled at a punchy 50% ABV.\", 'stock': 'In Stock', 'cost': '£130'}\n",
      "{'brand': 'Amrut Kadhambam\\n2019 Release Batch 14', 'mixing': '70cl / 50%', 'rating': None, 'reviews': None, 'description': \"The fourteenth batch of Amrut's Kadhambam was bottled in 2019. This is a combination of unpeated and peated Amrut that started life in ex-oloroso casks before being transferred first into brandy casks, then into rum casks (both the rum and brandy having been produced at Amrut also). A curious mixture, but it works. This is a unique and thrilling whisky.\", 'stock': 'In Stock', 'cost': '£135'}\n"
     ]
    },
    {
     "name": "stdout",
     "output_type": "stream",
     "text": [
      "{'brand': 'Amrut Kadhambam\\n2019 Release Batch 15', 'mixing': '70cl / 50%', 'rating': None, 'reviews': None, 'description': \"The 2019 release in Amrut's series, Kadhambam means 'mixture' or 'combination', and this Amrut certainly lives up to its name: a vatting of normal and peated Amrut that started life in ex-oloroso casks before being transferred first into brandy casks, then into rum casks (both the rum and brandy having been produced at Amrut also). A curious mixture, but it works. This is a unique and thrilling whisky.\", 'stock': 'In Stock', 'cost': '£135'}\n",
      "{'brand': 'The E&K 5 Year Old Malt Whisky\\nIndian & Scotch Fusion', 'mixing': '70cl / 57.8%', 'rating': None, 'reviews': None, 'description': \"The E&K blended malt is a tribute to Victor Alexander Bruce, the 9th Earl of Elgin who became Viceroy of India in 1894. It was made in conjunction with independent bottlers Adelphi, whose Alex Bruce is the great-grandson of Victor Bruce.\\n\\n\\nThis limited-edition whisky is a fusion of Scotch from Ardmore and Glenrothes, as well as malt from India's Amrut distillery. It has notes of tropical fruits, scented sandalwood, dark fruit, sweet smoke and Highland toffee, with a lingering and enjoyably complex finish.\", 'stock': 'In Stock', 'cost': '£150'}\n",
      "{'brand': 'Amrut Double Cask\\n3rd Edition', 'mixing': '70cl / 46%', 'rating': None, 'reviews': None, 'description': 'The third edition of this popular bottling, which blends single malt aged in a bourbon cask with that aged in a sherry cask. The two combine to create delicious notes of chocolate, tobacco, raisins, peach, brown sugar and plum.', 'stock': 'In Stock', 'cost': '£165'}\n",
      "{'brand': 'Amrut Double Cask\\n7 Year Old Bot.2016', 'mixing': '70cl / 46%', 'rating': '5', 'reviews': '1', 'description': \"The second release of Amrut's Double Cask is a blend of two whiskies: one aged in a bourbon cask from June 2009 and one PX sherry cask from May 2010. This shows excellent balance between sweet vanilla and coconut flavours from American oak and rich fruit from the European wood.\", 'stock': 'In Stock', 'cost': '£175'}\n",
      "{'brand': 'Paul John Kanya', 'mixing': '70cl / 50%', 'rating': None, 'reviews': None, 'description': \"A limited edition single malt from Paul John that was rated Best Asian Whisky by Jim Murray's 2018 Whisky Bible. Matured in American white oak casks for seven years, this is an enticing combination of honeyed fruits, with underlying layers of citrus spice and toasted oak.\\n\\n\\nKanya is named after the Indian counterpart to the Zodiac sign Virgo. People born under Kanya are believed to be patient, precise and observant.\\n\\nTasting Notes (1)\", 'stock': 'In Stock', 'cost': '£185'}\n",
      "{'brand': 'Amrut Peated Port Pipe\\n60ans LMDW', 'mixing': '70cl / 59%', 'rating': None, 'reviews': None, 'description': 'Peated whisky aged in port casks is a rare thing, even more so when it comes from India. This has excellent balance between smoky and red-fruit flavours, as well as offering notes of Turkish Delight, orange blossom and nutmeg.', 'stock': 'In Stock', 'cost': '£185'}\n",
      "{'brand': 'Amrut Rye Single Malt', 'mixing': '70cl / 50%', 'rating': '5', 'reviews': '1', 'description': \"The first ever release of Indian single malt rye. Made with European rye and aged for five years in American oak, this is fruity and floral with notes of sweet spice. A unique whisky that's much more elegant than is usual for Amrut.\", 'stock': 'In Stock', 'cost': '£185'}\n",
      "{'brand': 'Amrut Greedy Angels\\n8 Year Old Bot.2017', 'mixing': '70cl / 50%', 'rating': '1', 'reviews': '1', 'description': \"The Angel's Share in Bangalore, where Amrut is made, is around 12% – at least six times that in Scotland. These 'Greedy Angels' are responsible for the accelerated maturation evident in this whisky, which has a flavour profile far beyond its tender years. Notes of tropical fruits, red liquorice and gentle spice.\\n\\nTasting Notes (1)\", 'stock': 'In Stock', 'cost': '£350'}\n",
      "{'brand': 'Amrut Greedy Angels 10 Year Old\\nPeated Rum Finish', 'mixing': '70cl / 57.1%', 'rating': None, 'reviews': None, 'description': \"A rich, smoky Indian single malt whisky from Amrut's Greedy Angels series, matured for 10 years and finished in an ex-rum cask, before being bottled in October 2019. Woody aromas mingle with smoky peat, sweet spice and marmalade on the nose, developing into sour cherry, cocoa and sweet vanilla. The palate offers notes of butterscotch, candied citrus fruit and tropical fruits, followed by camphor, soft smoke and rum-soaked raisins.\", 'stock': 'In Stock', 'cost': '£800'}\n",
      "{'brand': 'Rampur Single Malt Signature Reserve', 'mixing': '70cl / 43.9%', 'rating': None, 'reviews': None, 'description': 'An elegant, fruity limited-edition Indian single malt from Rampur, matured in American oak barrels and finished in a Pedro Ximenez sherry cask, to celebrate 75 years of distilling at Rampur. Rich aromas of toffee, creamy vanilla, dark berries, dried fruit, cinnamon and forest honey fill the nose. The palate offers notes of sultanas, toffee, Christmas pudding and burnt caramel.', 'stock': 'In Stock', 'cost': '£900'}\n"
     ]
    }
   ],
   "source": [
    "whiskies_url = get_whiskies_url()\n",
    "for whisky_url in whiskies_url:\n",
    "    whisky_soup = get_page_html(whisky_url)\n",
    "    print(get_whisky_info(whisky_soup))"
   ]
  },
  {
   "cell_type": "markdown",
   "id": "chinese-angola",
   "metadata": {},
   "source": [
    "####  Final Clean Up"
   ]
  },
  {
   "cell_type": "code",
   "execution_count": 28,
   "id": "divine-future",
   "metadata": {},
   "outputs": [],
   "source": [
    "import re\n",
    "import csv\n",
    "import requests\n",
    "from functools import wraps\n",
    "from bs4 import BeautifulSoup"
   ]
  },
  {
   "cell_type": "code",
   "execution_count": 19,
   "id": "trying-keeping",
   "metadata": {},
   "outputs": [],
   "source": [
    "def get_whiskies():\n",
    "    headers = {\n",
    "        'authority': 'www.thewhiskyexchange.com',\n",
    "        'cache-control': 'max-age=0',\n",
    "        'sec-ch-ua': '^\\\\^Google',\n",
    "        'sec-ch-ua-mobile': '?0',\n",
    "        'upgrade-insecure-requests': '1',\n",
    "        'user-agent': 'Mozilla/5.0 (Windows NT 10.0; Win64; x64) AppleWebKit/537.36 (KHTML, like Gecko) Chrome/89.0.4389.114 Safari/537.36',\n",
    "        'accept': 'text/html,application/xhtml+xml,application/xml;q=0.9,image/avif,image/webp,image/apng,*/*;q=0.8,application/signed-exchange;v=b3;q=0.9',\n",
    "        'sec-fetch-site': 'same-origin',\n",
    "        'sec-fetch-mode': 'navigate',\n",
    "        'sec-fetch-user': '?1',\n",
    "        'sec-fetch-dest': 'document',\n",
    "        'referer': 'https://www.thewhiskyexchange.com/',\n",
    "        'accept-language': 'en-GB,en-US;q=0.9,en;q=0.8',\n",
    "    }\n",
    "\n",
    "    params = (\n",
    "        ('pg', '1'),\n",
    "        ('psize', '50'),\n",
    "        ('sort', 'pasc'),\n",
    "    )\n",
    "\n",
    "    response = requests.get('https://www.thewhiskyexchange.com/c/317/indian-whisky', headers=headers, params=params)\n",
    "    html = response.text\n",
    "    soup = BeautifulSoup(html, 'html.parser')\n",
    "    \n",
    "    return soup\n",
    "    #NB. Original query string below. It seems impossible to parse and\n",
    "    #reproduce query strings 100% accurately so the one below is given\n",
    "    #in case the reproduced version is not \"correct\".\n",
    "    # response = requests.get('https://www.thewhiskyexchange.com/c/317/indian-whisky?pg=2&psize=24&sort=pasc', headers=headers)\n"
   ]
  },
  {
   "cell_type": "code",
   "execution_count": 20,
   "id": "constant-tribute",
   "metadata": {},
   "outputs": [],
   "source": [
    "def prime_gen_automatically(gen_fn):\n",
    "    \n",
    "    @wraps(gen_fn)\n",
    "    def decorator(*args, **kwargs):\n",
    "        gen = gen_fn(*args, **kwargs)\n",
    "        next(gen)\n",
    "        return gen\n",
    "    return decorator"
   ]
  },
  {
   "cell_type": "code",
   "execution_count": 31,
   "id": "uniform-reader",
   "metadata": {},
   "outputs": [],
   "source": [
    "@prime_gen_automatically\n",
    "def whisky_html(info_getter):\n",
    "    soup = None\n",
    "    while True:\n",
    "        url = yield\n",
    "        response = requests.get(url)\n",
    "        html = response.text\n",
    "        soup = BeautifulSoup(html, 'html.parser')\n",
    "        info_getter.send(soup)"
   ]
  },
  {
   "cell_type": "code",
   "execution_count": 32,
   "id": "following-equilibrium",
   "metadata": {},
   "outputs": [],
   "source": [
    "@prime_gen_automatically\n",
    "def whiskies_url_links(html_getter):\n",
    "    whisky_url = None\n",
    "    while True:\n",
    "        whisky = yield\n",
    "        whisky_url = f\"https://www.thewhiskyexchange.com{whisky.find('a', {'class': 'product-card'})['href']}\"\n",
    "        html_getter.send(whisky_url)"
   ]
  },
  {
   "cell_type": "code",
   "execution_count": 33,
   "id": "exceptional-catering",
   "metadata": {},
   "outputs": [],
   "source": [
    "@prime_gen_automatically\n",
    "def get_whisky_info(file_saver):\n",
    "    whisky_info = None\n",
    "    while True:\n",
    "        whisky_soup = yield\n",
    "        ratings = whisky_soup.find('p', {'class': 'review-overview__content'})\n",
    "        try:\n",
    "            reviews = ratings.find('span', {'class': 'review-overview__count'}).text.strip()\n",
    "        except AttributeError:\n",
    "            reviews = None\n",
    "        finally:\n",
    "            whisky_info =  {\n",
    "                'brand': whisky_soup.find('h1', {'class': 'product-main__name'}).text.strip(),\n",
    "                'mixing': whisky_soup.find('p', {'class': 'product-main__data'}).text.strip(),\n",
    "                'rating': ratings and ratings.span.span.text.strip(),\n",
    "                'reviews': reviews and re.split('\\W', reviews)[1],\n",
    "                'description': whisky_soup.find('div', {'class': 'product-main__description'}).text.strip(),\n",
    "                'stock': whisky_soup.find('p', {'class': 'product-action__stock-flag'}).text.strip(),\n",
    "                'cost': whisky_soup.find('p', {'class': 'product-action__price'}).text.strip()\n",
    "            }\n",
    "            file_saver.send(whisky_info)"
   ]
  },
  {
   "cell_type": "code",
   "execution_count": 43,
   "id": "perfect-revision",
   "metadata": {},
   "outputs": [],
   "source": [
    "@prime_gen_automatically\n",
    "def save_to_file(filename):\n",
    "    with open(filename, 'w') as file:\n",
    "        row = yield\n",
    "        writer = csv.DictWriter(file, row.keys())\n",
    "        writer.writeheader()\n",
    "        writer.writerow(row)\n",
    "        while True:\n",
    "            row = yield\n",
    "            print(row)\n",
    "            writer.writerow(row)"
   ]
  },
  {
   "cell_type": "code",
   "execution_count": 44,
   "id": "fancy-supply",
   "metadata": {},
   "outputs": [],
   "source": [
    "def whiskies_list():\n",
    "    whiskies_page = get_whiskies()\n",
    "    whiskies = whiskies_page.find_all('li', {'class': 'product-grid__item'})\n",
    "    return whiskies"
   ]
  },
  {
   "cell_type": "code",
   "execution_count": 64,
   "id": "romantic-handling",
   "metadata": {},
   "outputs": [],
   "source": [
    "@prime_gen_automatically\n",
    "def whisky_details(filename):\n",
    "    try:\n",
    "        global file_saver\n",
    "        file_saver = save_to_file(filename)\n",
    "        info_getter = get_whisky_info(file_saver)\n",
    "        html_getter = whisky_html(info_getter)\n",
    "        url_getter = whiskies_url_links(html_getter)\n",
    "        while True:\n",
    "            whisky = yield\n",
    "            url_getter.send(whisky)\n",
    "    finally:\n",
    "        url_getter.close()\n",
    "        html_getter.close()\n",
    "        info_getter.close()\n",
    "        file_saver.close()"
   ]
  },
  {
   "cell_type": "code",
   "execution_count": 65,
   "id": "extended-athletics",
   "metadata": {},
   "outputs": [],
   "source": [
    "from contextlib import contextmanager"
   ]
  },
  {
   "cell_type": "code",
   "execution_count": 66,
   "id": "verified-enclosure",
   "metadata": {},
   "outputs": [],
   "source": [
    "@contextmanager\n",
    "def save_whisky_details(filename):\n",
    "    details = whisky_details(filename)\n",
    "    try:\n",
    "        yield details\n",
    "    finally:\n",
    "        details.close()"
   ]
  },
  {
   "cell_type": "code",
   "execution_count": 67,
   "id": "seeing-culture",
   "metadata": {
    "scrolled": true
   },
   "outputs": [
    {
     "name": "stdout",
     "output_type": "stream",
     "text": [
      "{'brand': 'Paul John Bold\\nPeated', 'mixing': '70cl / 46%', 'rating': '5', 'reviews': '8', 'description': 'Bold was a 2015 addition to the core range. This is made entirely with Indian barley smoked using Islay peat to around 25ppm. A superb alternative to classic peated Scotch whisky.', 'stock': 'In Stock', 'cost': '£40.25'}\n",
      "{'brand': 'Paul John Brilliance', 'mixing': '70cl / 46%', 'rating': '4.5', 'reviews': '23', 'description': \"An unpeated whisky from Paul John Distillers, released in early 2013 to much acclaim. It's made using barley from the foothills of the Himalayas and is distilled and matured in Goa, producing a fruity spirit with a creamy texture.\\n\\nTasting Notes (1)\", 'stock': 'In Stock', 'cost': '£40.25'}\n",
      "{'brand': 'Paul John Edited', 'mixing': '70cl / 46%', 'rating': None, 'reviews': None, 'description': 'The ongoing semi-peated whisky from Indian distiller Paul John. It combines their fruity unpeated single malt whisky with some 20-25ppm peated spirit to give a sweet and spicy whisky balanced by an underlying earthy smoke.\\n\\nTasting Notes (1)', 'stock': 'In Stock', 'cost': '£40.25'}\n",
      "{'brand': 'Amrut Single Malt\\n(46%)', 'mixing': '70cl / 46%', 'rating': '4.5', 'reviews': '18', 'description': \"Amrut's flagship Indian single malt, showing their signature character of spice, fruit and honey. Bottled at 46%, it has the depth of flavour needed to properly showcase the distillery. The original Indian single malt and, dare we say it, maybe the best?\", 'stock': 'In Stock', 'cost': '£44.95'}\n",
      "{'brand': 'Amrut Fusion', 'mixing': '70cl / 50%', 'rating': '5', 'reviews': '74', 'description': 'Amrut Fusion gets its name from the fact that it uses two barleys: Indian and Scottish - with the latter being peated for good measure. Fusion has been picking up awards ever since it first appeared in 2009, and in 2012 was named the best whisky for a Rob Roy in the Ultimate Cocktail Challenge in New York.\\n\\nTasting Notes (1)', 'stock': 'In Stock', 'cost': '£53.95'}\n",
      "{'brand': 'Amrut Peated', 'mixing': '70cl / 46%', 'rating': '4.5', 'reviews': '7', 'description': 'The new 46% Amruts are a very different proposition to the pleasant but unexciting original release. At the higher strength this 24ppm peated effort fairly fizzes along the tastebuds. This is excellent - hugely improved stuff from a distillery coming along in leaps and bounds.', 'stock': 'In Stock', 'cost': '£56.75'}\n",
      "{'brand': 'Rampur Double Cask Single Malt Whisky', 'mixing': '70cl / 45%', 'rating': '5', 'reviews': '1', 'description': 'Matured in a combination of ex-bourbon barrels and European oak sherry casks, this Indian single malt from Rampur has a rich, complex character. Aromas of tropical fruits mingle with sweet malt, oak, honey and dried fruits on the nose, and the palate offers notes of dark berries, dried fruits, cinnamon, nutmeg and salted caramel.', 'stock': 'In Stock', 'cost': '£58.95'}\n",
      "{'brand': 'Rampur Asava', 'mixing': '70cl / 45%', 'rating': '5', 'reviews': '2', 'description': 'An Indian single malt from Rampur, distilled in the picturesque foothills of the Himalayas and matured in a combination of ex-bourbon casks and ex-Cabernet Sauvignon casks. Aromas of honeysuckle, lychee and tobacco open on the nose, followed by orange zest, green bananas and sweet baking spices. The palate offers notes of cinnamon and clove, marmalade, savoury malt and sweet lychee, with black pepper lingering in the finish.\\n\\nTasting Notes (1)', 'stock': 'In Stock', 'cost': '£64.95'}\n",
      "{'brand': 'Paul John Classic Select Cask', 'mixing': '70cl / 55.2%', 'rating': '5', 'reviews': '6', 'description': \"An unpeated release from Paul John, produced by Goa's John Distilleries and bottled in 2013 at cask strength. The distillery has been going from strength to strength since first hitting our shores in 2012.\\n\\nTasting Notes (1)\", 'stock': 'In Stock', 'cost': '£65.45'}\n",
      "{'brand': 'Rampur Single Malt Whisky\\nPX Sherry Cask', 'mixing': '70cl / 45%', 'rating': '5', 'reviews': '2', 'description': \"A limited-edition from India's Rampur, a very special sherry-finished edition. It takes Rampur's fruity American-oak matured single malt and finishes it in sweet and sticky Pedro Ximénez sherry butts. The result is a rich and fruity whisky with layers of complex spice and dried fruit.\", 'stock': 'In Stock', 'cost': '£68.95'}\n",
      "{'brand': 'Paul John Pedro Ximenez Select Cask', 'mixing': '70cl / 48%', 'rating': None, 'reviews': None, 'description': 'An exotic Indian single malt from Paul John, finished in Pedro Ximinez sherry casks, creating layers of apricots, figs and banana throughout the palate.', 'stock': 'In Stock', 'cost': '£69.95'}\n",
      "{'brand': 'Paul John Peated Select Cask', 'mixing': '70cl / 55.5%', 'rating': '4.5', 'reviews': '4', 'description': \"A peated bottling from Goa's John Distilleries under their Paul John brand. Produced using peat imported from Scotland (there isn't any in India), it was bottled in 2013 at cask strength. The brand first arrived in the UK in 2012 and continues to go from strength to strength.\\n\\n\\nIndia's John Distilleries was founded in 1992, using six row barley from the Himalayan foothills to create sweet, floral notes in their whiskies.\\n \\nTasting Notes (1)\", 'stock': 'In Stock', 'cost': '£69.95'}\n",
      "{'brand': 'Amrut Peated Cask Strength', 'mixing': '70cl / 62.8%', 'rating': '5', 'reviews': '2', 'description': 'From Amrut distillery, founded in 1948, just one year after Indian independence, this is a stormingly hot and spicy whisky, peated and bottled at a punchy cask strength of 62.8%.\\n\\nTasting Notes (2)', 'stock': 'In Stock', 'cost': '£80.25'}\n",
      "{'brand': 'Paul John 6 Year Old\\nBatch 3 That Boutique-y Whisky Company', 'mixing': '50cl / 52.9%', 'rating': None, 'reviews': None, 'description': 'A six-year-old Indian whisky from Paul John, bottled by That Boutique-y Whisky Company that has been matured in an ex-bourbon cask. Aromas of smoky peat, sweet caramel and sea salt fill the nose, complemented by notes of milk chocolate, vanilla cream and peat smoke on the palate.', 'stock': 'In Stock', 'cost': '£89.95'}\n",
      "{'brand': \"McDowell's\\nIndian Single Malt Whisky\", 'mixing': '75cl / 42.8%', 'rating': None, 'reviews': None, 'description': '', 'stock': 'In Stock', 'cost': '£120'}\n",
      "{'brand': 'Amrut Two Continents\\n3rd Edition', 'mixing': '70cl / 46%', 'rating': '5', 'reviews': '1', 'description': \"The third edition of Amrut's splendid Two Continents, which is distilled and aged in India before being shipped to Europe for further aging. The result is a complex and delicious single malt that features notes of dried fruit, delicate spice, milk chocolate and banana.\", 'stock': 'In Stock', 'cost': '£120'}\n",
      "{'brand': 'Amrut Naarangi', 'mixing': '70cl / 50%', 'rating': '5', 'reviews': '1', 'description': \"Naarangi is an innovative release from India's Amrut. The name is Hindi for 'orange' and the whisky was aged in an ex-oloroso-sherry cask, which was then seasoned with wine and orange peel for three years. A three-year-old whisky was then finished in the cask for a further three years, producing a whisky with extra orangey notes.\", 'stock': 'In Stock', 'cost': '£125'}\n",
      "{'brand': 'Amrut Madeira Finish', 'mixing': '70cl / 50%', 'rating': None, 'reviews': None, 'description': \"A rich and multifaceted whisky aged primarily in ex-bourbon casks before a fairly lengthy finish in ex-Madeira casks sourced from family cooperages in Spain and Portugal. The finish has imbued Amrut's full-bodied spirit with sweet notes of honey and ripe, jammy orange rounded out by some oak-and-grapefruit bitterness and a touch of spice. A fantastic whisky bottled at a punchy 50% ABV.\", 'stock': 'In Stock', 'cost': '£130'}\n",
      "{'brand': 'Amrut Kadhambam\\n2019 Release Batch 14', 'mixing': '70cl / 50%', 'rating': None, 'reviews': None, 'description': \"The fourteenth batch of Amrut's Kadhambam was bottled in 2019. This is a combination of unpeated and peated Amrut that started life in ex-oloroso casks before being transferred first into brandy casks, then into rum casks (both the rum and brandy having been produced at Amrut also). A curious mixture, but it works. This is a unique and thrilling whisky.\", 'stock': 'In Stock', 'cost': '£135'}\n"
     ]
    },
    {
     "name": "stdout",
     "output_type": "stream",
     "text": [
      "{'brand': 'Amrut Kadhambam\\n2019 Release Batch 15', 'mixing': '70cl / 50%', 'rating': None, 'reviews': None, 'description': \"The 2019 release in Amrut's series, Kadhambam means 'mixture' or 'combination', and this Amrut certainly lives up to its name: a vatting of normal and peated Amrut that started life in ex-oloroso casks before being transferred first into brandy casks, then into rum casks (both the rum and brandy having been produced at Amrut also). A curious mixture, but it works. This is a unique and thrilling whisky.\", 'stock': 'In Stock', 'cost': '£135'}\n",
      "{'brand': 'The E&K 5 Year Old Malt Whisky\\nIndian & Scotch Fusion', 'mixing': '70cl / 57.8%', 'rating': None, 'reviews': None, 'description': \"The E&K blended malt is a tribute to Victor Alexander Bruce, the 9th Earl of Elgin who became Viceroy of India in 1894. It was made in conjunction with independent bottlers Adelphi, whose Alex Bruce is the great-grandson of Victor Bruce.\\n\\n\\nThis limited-edition whisky is a fusion of Scotch from Ardmore and Glenrothes, as well as malt from India's Amrut distillery. It has notes of tropical fruits, scented sandalwood, dark fruit, sweet smoke and Highland toffee, with a lingering and enjoyably complex finish.\", 'stock': 'In Stock', 'cost': '£150'}\n",
      "{'brand': 'Amrut Double Cask\\n3rd Edition', 'mixing': '70cl / 46%', 'rating': None, 'reviews': None, 'description': 'The third edition of this popular bottling, which blends single malt aged in a bourbon cask with that aged in a sherry cask. The two combine to create delicious notes of chocolate, tobacco, raisins, peach, brown sugar and plum.', 'stock': 'In Stock', 'cost': '£165'}\n",
      "{'brand': 'Amrut Double Cask\\n7 Year Old Bot.2016', 'mixing': '70cl / 46%', 'rating': '5', 'reviews': '1', 'description': \"The second release of Amrut's Double Cask is a blend of two whiskies: one aged in a bourbon cask from June 2009 and one PX sherry cask from May 2010. This shows excellent balance between sweet vanilla and coconut flavours from American oak and rich fruit from the European wood.\", 'stock': 'In Stock', 'cost': '£175'}\n",
      "{'brand': 'Paul John Kanya', 'mixing': '70cl / 50%', 'rating': None, 'reviews': None, 'description': \"A limited edition single malt from Paul John that was rated Best Asian Whisky by Jim Murray's 2018 Whisky Bible. Matured in American white oak casks for seven years, this is an enticing combination of honeyed fruits, with underlying layers of citrus spice and toasted oak.\\n\\n\\nKanya is named after the Indian counterpart to the Zodiac sign Virgo. People born under Kanya are believed to be patient, precise and observant.\\n\\nTasting Notes (1)\", 'stock': 'In Stock', 'cost': '£185'}\n",
      "{'brand': 'Amrut Peated Port Pipe\\n60ans LMDW', 'mixing': '70cl / 59%', 'rating': None, 'reviews': None, 'description': 'Peated whisky aged in port casks is a rare thing, even more so when it comes from India. This has excellent balance between smoky and red-fruit flavours, as well as offering notes of Turkish Delight, orange blossom and nutmeg.', 'stock': 'In Stock', 'cost': '£185'}\n",
      "{'brand': 'Amrut Rye Single Malt', 'mixing': '70cl / 50%', 'rating': '5', 'reviews': '1', 'description': \"The first ever release of Indian single malt rye. Made with European rye and aged for five years in American oak, this is fruity and floral with notes of sweet spice. A unique whisky that's much more elegant than is usual for Amrut.\", 'stock': 'In Stock', 'cost': '£185'}\n",
      "{'brand': 'Amrut Greedy Angels\\n8 Year Old Bot.2017', 'mixing': '70cl / 50%', 'rating': '1', 'reviews': '1', 'description': \"The Angel's Share in Bangalore, where Amrut is made, is around 12% – at least six times that in Scotland. These 'Greedy Angels' are responsible for the accelerated maturation evident in this whisky, which has a flavour profile far beyond its tender years. Notes of tropical fruits, red liquorice and gentle spice.\\n\\nTasting Notes (1)\", 'stock': 'In Stock', 'cost': '£350'}\n",
      "{'brand': 'Amrut Greedy Angels 10 Year Old\\nPeated Rum Finish', 'mixing': '70cl / 57.1%', 'rating': None, 'reviews': None, 'description': \"A rich, smoky Indian single malt whisky from Amrut's Greedy Angels series, matured for 10 years and finished in an ex-rum cask, before being bottled in October 2019. Woody aromas mingle with smoky peat, sweet spice and marmalade on the nose, developing into sour cherry, cocoa and sweet vanilla. The palate offers notes of butterscotch, candied citrus fruit and tropical fruits, followed by camphor, soft smoke and rum-soaked raisins.\", 'stock': 'In Stock', 'cost': '£800'}\n",
      "{'brand': 'Rampur Single Malt Signature Reserve', 'mixing': '70cl / 43.9%', 'rating': None, 'reviews': None, 'description': 'An elegant, fruity limited-edition Indian single malt from Rampur, matured in American oak barrels and finished in a Pedro Ximenez sherry cask, to celebrate 75 years of distilling at Rampur. Rich aromas of toffee, creamy vanilla, dark berries, dried fruit, cinnamon and forest honey fill the nose. The palate offers notes of sultanas, toffee, Christmas pudding and burnt caramel.', 'stock': 'In Stock', 'cost': '£900'}\n"
     ]
    }
   ],
   "source": [
    "with save_whisky_details('indian_whisky.csv') as pipeline:\n",
    "    for whisky in whiskies_list():\n",
    "        pipeline.send(whisky)"
   ]
  },
  {
   "cell_type": "code",
   "execution_count": 68,
   "id": "electric-prairie",
   "metadata": {},
   "outputs": [],
   "source": [
    "from inspect import getgeneratorstate"
   ]
  },
  {
   "cell_type": "code",
   "execution_count": 69,
   "id": "dominican-toner",
   "metadata": {},
   "outputs": [
    {
     "data": {
      "text/plain": [
       "'GEN_CLOSED'"
      ]
     },
     "execution_count": 69,
     "metadata": {},
     "output_type": "execute_result"
    }
   ],
   "source": [
    "getgeneratorstate(details)"
   ]
  },
  {
   "cell_type": "code",
   "execution_count": 70,
   "id": "aware-chapel",
   "metadata": {},
   "outputs": [
    {
     "data": {
      "text/plain": [
       "'GEN_CLOSED'"
      ]
     },
     "execution_count": 70,
     "metadata": {},
     "output_type": "execute_result"
    }
   ],
   "source": [
    "getgeneratorstate(file_saver)"
   ]
  },
  {
   "cell_type": "code",
   "execution_count": null,
   "id": "polar-boost",
   "metadata": {},
   "outputs": [],
   "source": []
  }
 ],
 "metadata": {
  "kernelspec": {
   "display_name": "Python 3",
   "language": "python",
   "name": "python3"
  },
  "language_info": {
   "codemirror_mode": {
    "name": "ipython",
    "version": 3
   },
   "file_extension": ".py",
   "mimetype": "text/x-python",
   "name": "python",
   "nbconvert_exporter": "python",
   "pygments_lexer": "ipython3",
   "version": "3.9.1"
  }
 },
 "nbformat": 4,
 "nbformat_minor": 5
}
