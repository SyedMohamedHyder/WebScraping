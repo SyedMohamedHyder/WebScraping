{
 "cells": [
  {
   "cell_type": "code",
   "execution_count": 9,
   "id": "mobile-block",
   "metadata": {},
   "outputs": [],
   "source": [
    "import requests\n",
    "from bs4 import BeautifulSoup"
   ]
  },
  {
   "cell_type": "code",
   "execution_count": 2,
   "id": "tropical-research",
   "metadata": {},
   "outputs": [],
   "source": [
    "url = 'https://www.amazon.in/dp/B08NB1YRW2/ref=redir_mobile_desktop?_encoding=UTF8&aaxitk=uh4-zMqxEpUrv6gZTGHzmw&hsa_cr_id=1432290690202&pd_rd_plhdr=t&pd_rd_r=00094016-cf6e-4a54-a829-272330b4254f&pd_rd_w=z1SGn&pd_rd_wg=maoH8&ref_=sbx_be_s_sparkle_mcd_asin_0_img'"
   ]
  },
  {
   "cell_type": "code",
   "execution_count": 3,
   "id": "linear-chance",
   "metadata": {},
   "outputs": [],
   "source": [
    "response = requests.get(url)"
   ]
  },
  {
   "cell_type": "code",
   "execution_count": 4,
   "id": "worst-rubber",
   "metadata": {},
   "outputs": [
    {
     "data": {
      "text/plain": [
       "503"
      ]
     },
     "execution_count": 4,
     "metadata": {},
     "output_type": "execute_result"
    }
   ],
   "source": [
    "response.status_code"
   ]
  },
  {
   "cell_type": "code",
   "execution_count": 5,
   "id": "unlikely-mobility",
   "metadata": {},
   "outputs": [],
   "source": [
    "headers = {\n",
    "    'User-Agent': 'Mozilla/5.0 (Windows NT 10.0; Win64; x64) AppleWebKit/537.36 (KHTML, like Gecko) Chrome/89.0.4389.114 Safari/537.36'\n",
    "}"
   ]
  },
  {
   "cell_type": "code",
   "execution_count": 6,
   "id": "innocent-tackle",
   "metadata": {},
   "outputs": [],
   "source": [
    "response = requests.get(url, headers=headers)"
   ]
  },
  {
   "cell_type": "code",
   "execution_count": 7,
   "id": "pretty-attempt",
   "metadata": {},
   "outputs": [
    {
     "data": {
      "text/plain": [
       "200"
      ]
     },
     "execution_count": 7,
     "metadata": {},
     "output_type": "execute_result"
    }
   ],
   "source": [
    "response.status_code"
   ]
  },
  {
   "cell_type": "code",
   "execution_count": 12,
   "id": "delayed-invention",
   "metadata": {},
   "outputs": [],
   "source": [
    "soup = BeautifulSoup(response.text, 'html.parser')\n",
    "title = soup.find('span', {'class': 'a-size-large product-title-word-break', 'id': 'productTitle'}).text"
   ]
  },
  {
   "cell_type": "code",
   "execution_count": 14,
   "id": "violent-poetry",
   "metadata": {},
   "outputs": [
    {
     "data": {
      "text/plain": [
       "'WeCool Moonwalk Mini Earbuds with Magnetic Charging Case IPX5 Wireless Earphones with Digital Battery Indicator for Crisp Sound Bluetooth Earphones for Secure Sports Fit'"
      ]
     },
     "execution_count": 14,
     "metadata": {},
     "output_type": "execute_result"
    }
   ],
   "source": [
    "title.strip()"
   ]
  },
  {
   "cell_type": "code",
   "execution_count": null,
   "id": "anticipated-appraisal",
   "metadata": {},
   "outputs": [],
   "source": []
  }
 ],
 "metadata": {
  "kernelspec": {
   "display_name": "Python 3",
   "language": "python",
   "name": "python3"
  },
  "language_info": {
   "codemirror_mode": {
    "name": "ipython",
    "version": 3
   },
   "file_extension": ".py",
   "mimetype": "text/x-python",
   "name": "python",
   "nbconvert_exporter": "python",
   "pygments_lexer": "ipython3",
   "version": "3.9.1"
  }
 },
 "nbformat": 4,
 "nbformat_minor": 5
}
