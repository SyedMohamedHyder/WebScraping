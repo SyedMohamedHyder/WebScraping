{
 "cells": [
  {
   "cell_type": "code",
   "execution_count": 1,
   "id": "running-netherlands",
   "metadata": {},
   "outputs": [],
   "source": [
    "import smtplib\n",
    "import mimetypes\n",
    "from getpass import getpass\n",
    "from email.mime.multipart import MIMEMultipart\n",
    "from email.message import EmailMessage"
   ]
  },
  {
   "cell_type": "code",
   "execution_count": 46,
   "id": "indian-store",
   "metadata": {},
   "outputs": [],
   "source": [
    "sender = 'syedhyder1362k@gmail.com'\n",
    "reciever = 'jabeen3108@gmail.com'\n",
    "subject = \"Shivangi's Channel\"\n",
    "body = \"This message contains an excel file as an attachment which contains all data scraped from Shivangi's channel\""
   ]
  },
  {
   "cell_type": "code",
   "execution_count": 47,
   "id": "under-nicaragua",
   "metadata": {},
   "outputs": [],
   "source": [
    "message = EmailMessage()"
   ]
  },
  {
   "cell_type": "code",
   "execution_count": 48,
   "id": "through-oracle",
   "metadata": {},
   "outputs": [],
   "source": [
    "message['From'] = sender\n",
    "message['To'] = reciever\n",
    "message['Subject'] = subject\n",
    "message.set_content(body)"
   ]
  },
  {
   "cell_type": "code",
   "execution_count": 49,
   "id": "recreational-safety",
   "metadata": {},
   "outputs": [],
   "source": [
    "def send_mail(sender, reciever, message):\n",
    "    try:\n",
    "        server = smtplib.SMTP('smtp.gmail.com', 587)\n",
    "        server.starttls()\n",
    "        password = getpass('Enter your password : ')\n",
    "        print('Loging in')\n",
    "        server.login(sender, password)\n",
    "        print('Sending mail')\n",
    "        server.sendmail(sender, reciever, message.as_string())\n",
    "        print('Mail sent')\n",
    "    finally:\n",
    "        server.quit()\n",
    "        print('Closed the server')"
   ]
  },
  {
   "cell_type": "code",
   "execution_count": 50,
   "id": "proprietary-macintosh",
   "metadata": {},
   "outputs": [],
   "source": [
    "import os\n",
    "import os.path"
   ]
  },
  {
   "cell_type": "code",
   "execution_count": 51,
   "id": "compact-string",
   "metadata": {},
   "outputs": [],
   "source": [
    "filename = 'shivangi.csv'\n",
    "filepath = os.path.abspath(filename)"
   ]
  },
  {
   "cell_type": "code",
   "execution_count": 52,
   "id": "auburn-clark",
   "metadata": {},
   "outputs": [
    {
     "data": {
      "text/plain": [
       "'C:\\\\Users\\\\ASUS\\\\OneDrive\\\\Desktop\\\\python_stuff\\\\WebScraping\\\\scrap_youtube_data\\\\shivangi.csv'"
      ]
     },
     "execution_count": 52,
     "metadata": {},
     "output_type": "execute_result"
    }
   ],
   "source": [
    "filepath"
   ]
  },
  {
   "cell_type": "code",
   "execution_count": 53,
   "id": "warming-maximum",
   "metadata": {},
   "outputs": [],
   "source": [
    "mimetype, _ = mimetypes.guess_type(filepath)"
   ]
  },
  {
   "cell_type": "code",
   "execution_count": 54,
   "id": "cross-neutral",
   "metadata": {},
   "outputs": [
    {
     "data": {
      "text/plain": [
       "'application/vnd.ms-excel'"
      ]
     },
     "execution_count": 54,
     "metadata": {},
     "output_type": "execute_result"
    }
   ],
   "source": [
    "mimetype"
   ]
  },
  {
   "cell_type": "code",
   "execution_count": 55,
   "id": "broken-aside",
   "metadata": {},
   "outputs": [],
   "source": [
    "mimetype, subtype = mimetype.split('/', 1)"
   ]
  },
  {
   "cell_type": "code",
   "execution_count": 56,
   "id": "sustained-freight",
   "metadata": {},
   "outputs": [
    {
     "data": {
      "text/plain": [
       "('application', 'vnd.ms-excel')"
      ]
     },
     "execution_count": 56,
     "metadata": {},
     "output_type": "execute_result"
    }
   ],
   "source": [
    "mimetype, subtype"
   ]
  },
  {
   "cell_type": "code",
   "execution_count": 57,
   "id": "buried-advisory",
   "metadata": {},
   "outputs": [],
   "source": [
    "with open(filepath, 'rb') as file:\n",
    "    message.add_attachment(file.read(),\n",
    "                          maintype = mimetype,\n",
    "                          subtype = subtype,\n",
    "                          filename = filename)"
   ]
  },
  {
   "cell_type": "code",
   "execution_count": 58,
   "id": "sharp-mouse",
   "metadata": {
    "scrolled": true
   },
   "outputs": [
    {
     "name": "stdout",
     "output_type": "stream",
     "text": [
      "From: syedhyder1362k@gmail.com\n",
      "To: jabeen3108@gmail.com\n",
      "Subject: Shivangi's Channel\n",
      "MIME-Version: 1.0\n",
      "Content-Type: multipart/mixed; boundary=\"===============6721330648942283587==\"\n",
      "\n",
      "--===============6721330648942283587==\n",
      "Content-Type: text/plain; charset=\"utf-8\"\n",
      "Content-Transfer-Encoding: quoted-printable\n",
      "\n",
      "This message contains an excel file as an attachment which contains all data =\n",
      "scraped from Shivangi's channel\n",
      "\n",
      "--===============6721330648942283587==\n",
      "Content-Type: application/vnd.ms-excel\n",
      "Content-Transfer-Encoding: base64\n",
      "Content-Disposition: attachment; filename=\"shivangi.csv\"\n",
      "MIME-Version: 1.0\n",
      "\n",
      "LHRpdGxlLHZpZGVvX3VybCx2aWV3cyx0aW1lDQowLEluc3RhZ3JhbSAyIE0gc3BlY2lhbCBsaXZl\n",
      "4p2k77iPdGhhbmt5b3UgZ3V5c3PinaTvuI/inaTvuI8saHR0cHM6Ly93d3cueW91dHViZS5jb20v\n",
      "d2F0Y2g/dj1ieFMyWTQ3eVhPWSw0OTNLIHZpZXdzLDEgd2VlayBhZ28NCjEsIkVuYWRodXlpcmUg\n",
      "Q292ZXIgU29uZyBGdC4gU2l2YWFuZ2kgS3Jpc2huYWt1bWFyIHwgU3VyeWEgTWFyaWFwcGFuLCBS\n",
      "aXRlc2ggfCBMYXRlc3QgVGFtaWwgQ292ZXIgU29uZ3MiLGh0dHBzOi8vd3d3LnlvdXR1YmUuY29t\n",
      "L3dhdGNoP3Y9TlVGeVRmMXdxdzAsMU0gdmlld3MsMiB3ZWVrcyBhZ28NCjIsUG9uZ2FsIFNwZWNp\n",
      "YWwgQ2VsZWJyYXRpb24gV2l0aCBNeSBGYW1pbHkhIPCfmI3wn5KcIHwgU2l2YWFuZ2kgS3Jpc2hu\n",
      "YWt1bWFyIHwgUG9uZ2FsIFNwZWNpYWwgVmxvZyxodHRwczovL3d3dy55b3V0dWJlLmNvbS93YXRj\n",
      "aD92PUdFa0pxV29PdGRJLDIuM00gdmlld3MsMSBtb250aCBhZ28NCjMsU2l2YWFuZ2kgRnVuIExp\n",
      "dmUgV2l0aCBNb23wn5iFIPCfmIIg8J+koyEgfCBTaXZhYW5naSBLcmlzaG5ha3VtYXIgfCBCaW5u\n",
      "aSBLcmlzaG5ha3VtYXIsaHR0cHM6Ly93d3cueW91dHViZS5jb20vd2F0Y2g/dj0xNTVMN3d2S25W\n",
      "cywxLjVNIHZpZXdzLFN0cmVhbWVkIDEgbW9udGggYWdvDQo0LEZyb20gVGhlIFNldHMgT2YgQ29v\n",
      "ayBXaXRoIENvbWFsaSEgLSBGdW4gVmxvZyBGdC4gU2l2YWFuZ2kg8J+YgiDwn6SjfCBUYW1pbCBW\n",
      "bG9ncyB8IFB1Z2F6aCB8IFZpamF5IFRWLGh0dHBzOi8vd3d3LnlvdXR1YmUuY29tL3dhdGNoP3Y9\n",
      "eTBOWklSWWdHRWssNS40TSB2aWV3cywyIG1vbnRocyBhZ28NCjUsV2hhdCdzIEluc2lkZSBNeSBG\n",
      "cmlkZ2U/8J+YsSBmdC4gU2l2YWFuZ2kgfCBGcmlkZ2UgVG91ciBWbG9nIHwgVGFtaWwgVmxvZ3Mg\n",
      "fCBTaXZhYW5naSBLcmlzaG5ha3VtYXIsaHR0cHM6Ly93d3cueW91dHViZS5jb20vd2F0Y2g/dj05\n",
      "azBKOGM2WGk0RSw0TSB2aWV3cywzIG1vbnRocyBhZ28NCjYsU2l2YWFuZ2kgTGl2ZSEhISB8IFNp\n",
      "dmFhbmdpIEtyaXNobmFrdW1hciB8IExpdmUgRnVuIFdpdGggRmFucyAmIEZyaWVuZHPwn5iAIPCf\n",
      "mIMg8J+YhCxodHRwczovL3d3dy55b3V0dWJlLmNvbS93YXRjaD92PS1FeHNWS0ZEM0xJLDg3M0sg\n",
      "dmlld3MsU3RyZWFtZWQgNCBtb250aHMgYWdvDQo3LEZ1biBTaG9wcGluZyBXaXRoIEFtbWEhIPCf\n",
      "mIAgfCBEaWZhIFN0b3JlcyBUIE5hZ2FyIHwgU2l2YWFuZ2kgS3Jpc2huYWt1bWFyIHwgVGFtaWwg\n",
      "VmxvZ3MsaHR0cHM6Ly93d3cueW91dHViZS5jb20vd2F0Y2g/dj1pOVY0cElEZE4wcywzLjZNIHZp\n",
      "ZXdzLDQgbW9udGhzIGFnbw0KOCxJbnNpZGUgQmlnZyBCb3NzIFNldCEgfCBUb3VyIFRvIEVWUCB8\n",
      "IFN1cGVyIFNpbmdlciB8IFNpdmFhbmdpIEtyaXNobmFrdW1hciB8IEJpZ2cgQm9zcyA0IFRhbWls\n",
      "LGh0dHBzOi8vd3d3LnlvdXR1YmUuY29tL3dhdGNoP3Y9OXVFaFBnNDJWdDgsMi40TSB2aWV3cyw0\n",
      "IG1vbnRocyBhZ28NCjksVW5ib3hpbmcgTXkgU2lsdmVyIFBsYXkgQnV0dG9uIfCfmI0gfCBUaGFu\n",
      "a2luZyBBbGwgTXkgMSBMYWtoIFN1YnNjcmliZXJz8J+Yg3wgU2l2YWFuZ2kgS3Jpc2huYWt1bWFy\n",
      "LGh0dHBzOi8vd3d3LnlvdXR1YmUuY29tL3dhdGNoP3Y9VjFpNElsSWN0bUksNTcxSyB2aWV3cyw2\n",
      "IG1vbnRocyBhZ28NCjEwLEZ1biBWbG9nIEF0IFN1cGVyIFNpbmdlciBTZXRzIHwgU2l2YWFuZ2kg\n",
      "fCBBamF5IEtyaXNobmEgfCBTYW0gVmlzaGFsIHwgREogQmxhY2sgfCBUYW1pbCBWbG9ncyxodHRw\n",
      "czovL3d3dy55b3V0dWJlLmNvbS93YXRjaD92PVZIQ2s4UlcwODhJLDNNIHZpZXdzLDYgbW9udGhz\n",
      "IGFnbw0KMTEsSmltbWlra2kgS2FtbWFsIEZ1biBWbG9nIFBhcnQgMiB8IEZ0LiBTaXZhYW5naSAm\n",
      "IEJpbm5pIEtyaXNobmFrdW1hciB8IFRhbWlsIFZsb2dzLGh0dHBzOi8vd3d3LnlvdXR1YmUuY29t\n",
      "L3dhdGNoP3Y9S19veHNzWERJeTQsODA1SyB2aWV3cyw2IG1vbnRocyBhZ28NCjEyLEppbW1pa2tp\n",
      "IEthbW1hbCBGdW4gVmxvZyBGdC4gU2l2YWFuZ2kgJiBCaW5uaSBLcmlzaG5ha3VtYXIgfCBUYW1p\n",
      "bCBWbG9ncyB8IFNpdmFhbmdpIEtyaXNobmFrdW1hcixodHRwczovL3d3dy55b3V0dWJlLmNvbS93\n",
      "YXRjaD92PUZSNlZraUQ4NmVBLDEuNE0gdmlld3MsNiBtb250aHMgYWdvDQoxMyxLYW5hdmUgS2Fu\n",
      "YXZlIFggS2FubmF6aGFnYSBNYXNodXAgRnQgU2l2YWFuZ2kgS3Jpc2huYWt1bWFyIHwgQW5pcnVk\n",
      "aCB8IExhdGVzdCBUYW1pbCBDb3ZlciBTb25ncyxodHRwczovL3d3dy55b3V0dWJlLmNvbS93YXRj\n",
      "aD92PVJheG5GN0N3b3VrLDc4NUsgdmlld3MsOSBtb250aHMgYWdvDQoxNCxFbGx1IFZheWEgUG9v\n",
      "a2FsYXllIFNvbmcgQ292ZXIgRnQgU2l2YWFuZ2kgfCBBc3VyYW4gU29uZ3MgfCBEaGFudXNoIHwg\n",
      "R1YgUHJha2FzaCB8IFRhbWlsIENvdmVyIFNvbmdzLGh0dHBzOi8vd3d3LnlvdXR1YmUuY29tL3dh\n",
      "dGNoP3Y9WUMyeV9WZjI5eVksMi43TSB2aWV3cywxMCBtb250aHMgYWdvDQoxNSxNYW5uaXBhYXlh\n",
      "IENvdmVyIEZ0LiBTaXZhYW5naSBLcmlzaG5ha3VtYXIgfCBBUiBSYWhtYW4gfCBTVFIgfCBUcmlz\n",
      "aGEgfCBMYXRlc3QgVGFtaWwgQ292ZXIgU29uZ3MsaHR0cHM6Ly93d3cueW91dHViZS5jb20vd2F0\n",
      "Y2g/dj1uNFBNa1lYV25mOCw2MThLIHZpZXdzLDExIG1vbnRocyBhZ28NCjE2LFVubmEgTmVuYWNo\n",
      "dSBDb3ZlciBTb25nIEZ0IFNpdmFhbmdpICYgSmFpc29uIE1hdGhldyAgfCBJbGFpeWFyYWFqYSB8\n",
      "IFNpZCBTcmlyYW0gfCBDb3ZlciBTb25ncyxodHRwczovL3d3dy55b3V0dWJlLmNvbS93YXRjaD92\n",
      "PXVvLTZpaU5malZFLDMuMk0gdmlld3MsMSB5ZWFyIGFnbw0KMTcsQ29va3UgV2l0aCBDb21hbGkg\n",
      "U2l2YWFuZ2kncyBGdW4gTW9tZW50cyBCbG9vcGVyISDwn5iE8J+YhiB8IFNpdmFhbmdpIEtyaXNo\n",
      "bmFrdW1hciB8IENvb2t1IFdpdGggQ29tYWxpLGh0dHBzOi8vd3d3LnlvdXR1YmUuY29tL3dhdGNo\n",
      "P3Y9UnE1ZUNmQXIyT3MsMjcwSyB2aWV3cywxIHllYXIgYWdvDQoxOCxFeSBTYW5kYWthYXJhIC0g\n",
      "RW5uYWRpIE1heWF2aSBNYXNodXAgfCBTaXZhYW5naSBGdCAgUml0ZXNoIFBpbGxhaSB8IFN1cml5\n",
      "YSB8IFRhbWlsIENvdmVyIFNvbmdzLGh0dHBzOi8vd3d3LnlvdXR1YmUuY29tL3dhdGNoP3Y9bWx2\n",
      "cUZIbFZXemcsOTc3SyB2aWV3cywxIHllYXIgYWdvDQoxOSxVbmtvb2RhdmUgUG9yYWtrYW51bSBD\n",
      "b3ZlciBTb25nIHwgU2lkIFNyaXJhbSB8IE5hbW1hIFZlZXR1IFBpbGxhaSBTb25ncyB8IFNpdmFh\n",
      "bmdpIHwgQ292ZXIgU29uZ3MsaHR0cHM6Ly93d3cueW91dHViZS5jb20vd2F0Y2g/dj1NakcxSkhi\n",
      "S252SSwyLjNNIHZpZXdzLDEgeWVhciBhZ28NCjIwLEVubmEgTmFhbiBTZWl2ZW4gQ292ZXIgU29u\n",
      "ZyB8IE1leWFhZGhhIE1hYW4gU29uZ3MgfCBTaXZhYW5naSB8IFByYWRlZXAgfCBMYXRlc3QgVGFt\n",
      "aWwgQ292ZXIgU29uZ3MsaHR0cHM6Ly93d3cueW91dHViZS5jb20vd2F0Y2g/dj0waE5nNmRVdS1Q\n",
      "QSwyODVLIHZpZXdzLDEgeWVhciBhZ28NCjIxLFZhc2VlZ2FyYSBDb3ZlciBTb25nIHwgTWlubmFs\n",
      "ZSBUYW1pbCBNb3ZpZSB8IFNpdmFhbmdpIEtyaXNobmFrdW1hciB8IEhhcnJpcyBKYXlhcmFqIHwg\n",
      "TWFkaGF2YW4saHR0cHM6Ly93d3cueW91dHViZS5jb20vd2F0Y2g/dj1VOUJYRU5fZ181QSw1NDZL\n",
      "IHZpZXdzLDEgeWVhciBhZ28NCg==\n",
      "\n",
      "--===============6721330648942283587==--\n",
      "\n"
     ]
    }
   ],
   "source": [
    "print(message)"
   ]
  },
  {
   "cell_type": "code",
   "execution_count": 59,
   "id": "compound-cocktail",
   "metadata": {},
   "outputs": [
    {
     "name": "stdout",
     "output_type": "stream",
     "text": [
      "Enter your password : ········\n",
      "Loging in\n",
      "Sending mail\n",
      "Mail sent\n",
      "Closed the server\n"
     ]
    }
   ],
   "source": [
    "send_mail(sender, reciever, message)"
   ]
  },
  {
   "cell_type": "code",
   "execution_count": null,
   "id": "official-british",
   "metadata": {},
   "outputs": [],
   "source": []
  }
 ],
 "metadata": {
  "kernelspec": {
   "display_name": "Python 3",
   "language": "python",
   "name": "python3"
  },
  "language_info": {
   "codemirror_mode": {
    "name": "ipython",
    "version": 3
   },
   "file_extension": ".py",
   "mimetype": "text/x-python",
   "name": "python",
   "nbconvert_exporter": "python",
   "pygments_lexer": "ipython3",
   "version": "3.9.1"
  }
 },
 "nbformat": 4,
 "nbformat_minor": 5
}
