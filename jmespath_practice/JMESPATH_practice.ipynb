{
 "cells": [
  {
   "cell_type": "code",
   "execution_count": 5,
   "id": "opening-darwin",
   "metadata": {},
   "outputs": [],
   "source": [
    "import json\n",
    "import jmespath"
   ]
  },
  {
   "cell_type": "code",
   "execution_count": 63,
   "id": "sustained-violence",
   "metadata": {},
   "outputs": [],
   "source": [
    "with open('expense.json', 'r') as json_file:\n",
    "    json_data = json.load(json_file)"
   ]
  },
  {
   "cell_type": "code",
   "execution_count": 64,
   "id": "curious-mediterranean",
   "metadata": {},
   "outputs": [
    {
     "data": {
      "text/plain": [
       "{'people': [{'WHO': 'Joe',\n",
       "   'WEEK': [{'NUMBER': 6,\n",
       "     'EXPENSE': [{'WHAT': 'Beer', 'AMOUNT': 18.0},\n",
       "      {'WHAT': 'Food', 'AMOUNT': 12.0},\n",
       "      {'WHAT': 'Food', 'AMOUNT': 19.0},\n",
       "      {'WHAT': 'Car', 'AMOUNT': 20.0}]},\n",
       "    {'NUMBER': 4,\n",
       "     'EXPENSE': [{'WHAT': 'Beer', 'AMOUNT': 19.0},\n",
       "      {'WHAT': 'Beer', 'AMOUNT': 16.0},\n",
       "      {'WHAT': 'Food', 'AMOUNT': 17.0},\n",
       "      {'WHAT': 'Food', 'AMOUNT': 17.0},\n",
       "      {'WHAT': 'Beer', 'AMOUNT': 14.0}]},\n",
       "    {'NUMBER': 5,\n",
       "     'EXPENSE': [{'WHAT': 'Beer', 'AMOUNT': 14.0},\n",
       "      {'WHAT': 'Food', 'AMOUNT': 12.0}]}]},\n",
       "  {'WHO': 'Beth',\n",
       "   'WEEK': [{'NUMBER': 3, 'EXPENSE': [{'WHAT': 'Beer', 'AMOUNT': 16.0}]},\n",
       "    {'NUMBER': 4,\n",
       "     'EXPENSE': [{'WHAT': 'Food', 'AMOUNT': 17.0},\n",
       "      {'WHAT': 'Beer', 'AMOUNT': 15.0}]},\n",
       "    {'NUMBER': 5,\n",
       "     'EXPENSE': [{'WHAT': 'Food', 'AMOUNT': 12.0},\n",
       "      {'WHAT': 'Beer', 'AMOUNT': 20.0}]}]},\n",
       "  {'WHO': 'Janet',\n",
       "   'WEEK': [{'NUMBER': 3,\n",
       "     'EXPENSE': [{'WHAT': 'Car', 'AMOUNT': 19.0},\n",
       "      {'WHAT': 'Food', 'AMOUNT': 18.0},\n",
       "      {'WHAT': 'Beer', 'AMOUNT': 18.0}]},\n",
       "    {'NUMBER': 4, 'EXPENSE': [{'WHAT': 'Car', 'AMOUNT': 17.0}]},\n",
       "    {'NUMBER': 5,\n",
       "     'EXPENSE': [{'WHAT': 'Beer', 'AMOUNT': 14.0},\n",
       "      {'WHAT': 'Car', 'AMOUNT': 12.0},\n",
       "      {'WHAT': 'Beer', 'AMOUNT': 19.0},\n",
       "      {'WHAT': 'Food', 'AMOUNT': 12.0}]}]}]}"
      ]
     },
     "execution_count": 64,
     "metadata": {},
     "output_type": "execute_result"
    }
   ],
   "source": [
    "json_data"
   ]
  },
  {
   "cell_type": "code",
   "execution_count": 68,
   "id": "mounted-solution",
   "metadata": {},
   "outputs": [],
   "source": [
    "search_string = 'people[?WEEK.NUMBER==\"6\"].WHO'"
   ]
  },
  {
   "cell_type": "code",
   "execution_count": 69,
   "id": "natural-flower",
   "metadata": {},
   "outputs": [
    {
     "name": "stdout",
     "output_type": "stream",
     "text": [
      "['Joe', 'Beth', 'Janet']\n"
     ]
    }
   ],
   "source": [
    "print(jmespath.search(search_string, json_data))"
   ]
  },
  {
   "cell_type": "code",
   "execution_count": null,
   "id": "awful-spoke",
   "metadata": {},
   "outputs": [],
   "source": []
  }
 ],
 "metadata": {
  "kernelspec": {
   "display_name": "Python 3",
   "language": "python",
   "name": "python3"
  },
  "language_info": {
   "codemirror_mode": {
    "name": "ipython",
    "version": 3
   },
   "file_extension": ".py",
   "mimetype": "text/x-python",
   "name": "python",
   "nbconvert_exporter": "python",
   "pygments_lexer": "ipython3",
   "version": "3.9.1"
  }
 },
 "nbformat": 4,
 "nbformat_minor": 5
}
