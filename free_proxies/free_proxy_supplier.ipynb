{
 "cells": [
  {
   "cell_type": "code",
   "execution_count": 1,
   "id": "theoretical-advantage",
   "metadata": {},
   "outputs": [],
   "source": [
    "import re\n",
    "import csv\n",
    "import requests\n",
    "from bs4 import BeautifulSoup"
   ]
  },
  {
   "cell_type": "code",
   "execution_count": 2,
   "id": "demonstrated-luxury",
   "metadata": {},
   "outputs": [],
   "source": [
    "def extract_proxy_tables():\n",
    "    url = 'https://free-proxy-list.net/'\n",
    "    response = requests.get(url)\n",
    "    html = response.text\n",
    "    soup = BeautifulSoup(html, 'html.parser')\n",
    "    return soup"
   ]
  },
  {
   "cell_type": "code",
   "execution_count": 3,
   "id": "worse-lunch",
   "metadata": {},
   "outputs": [],
   "source": [
    "def parse_save_proxies(filename, headers=('ip_address', 'port')):\n",
    "    soup = extract_proxy_tables()\n",
    "    pattern = r'^\\d+.\\d+.\\d+.\\d+:\\d+$'\n",
    "    proxies = soup.find('textarea', {'class': 'form-control'}).text.split('\\n')\n",
    "    real_proxies = (proxy.split(':') for proxy in proxies if re.match(pattern, proxy))\n",
    "    \n",
    "    with open(filename, 'w', newline='', encoding='utf-8') as file:\n",
    "        writer = csv.writer(file)\n",
    "        writer.writerow(headers)\n",
    "        writer.writerows(real_proxies)"
   ]
  },
  {
   "cell_type": "code",
   "execution_count": 4,
   "id": "cheap-muscle",
   "metadata": {
    "scrolled": true
   },
   "outputs": [],
   "source": [
    "parse_save_proxies('proxies.csv')"
   ]
  },
  {
   "cell_type": "code",
   "execution_count": null,
   "id": "characteristic-command",
   "metadata": {},
   "outputs": [],
   "source": []
  }
 ],
 "metadata": {
  "kernelspec": {
   "display_name": "Python 3",
   "language": "python",
   "name": "python3"
  },
  "language_info": {
   "codemirror_mode": {
    "name": "ipython",
    "version": 3
   },
   "file_extension": ".py",
   "mimetype": "text/x-python",
   "name": "python",
   "nbconvert_exporter": "python",
   "pygments_lexer": "ipython3",
   "version": "3.9.1"
  }
 },
 "nbformat": 4,
 "nbformat_minor": 5
}
