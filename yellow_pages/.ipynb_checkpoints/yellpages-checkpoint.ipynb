{
 "cells": [
  {
   "cell_type": "code",
   "execution_count": 29,
   "id": "wooden-hamilton",
   "metadata": {},
   "outputs": [],
   "source": [
    "import requests\n",
    "from bs4 import BeautifulSoup"
   ]
  },
  {
   "cell_type": "code",
   "execution_count": 30,
   "id": "cross-springfield",
   "metadata": {},
   "outputs": [],
   "source": [
    "def extract(page):\n",
    "    print(page)\n",
    "    url = f'https://www.yell.com/ucs/UcsSearchAction.do?keywords=coffee&location=London&scrambleSeed=843665584&pageNum={page}'\n",
    "    headers = {'User-Agent': 'Mozilla/5.0 (Windows NT 10.0; Win64; x64) AppleWebKit/537.36 (KHTML, like Gecko) Chrome/89.0.4389.128 Safari/537.36'}\n",
    "    response = requests.get(url, headers=headers)\n",
    "    html = response.text\n",
    "    return BeautifulSoup(html, 'html.parser')"
   ]
  },
  {
   "cell_type": "code",
   "execution_count": 31,
   "id": "sonic-surge",
   "metadata": {},
   "outputs": [],
   "source": [
    "def translate(soup):\n",
    "    articles = soup.find_all('div', {'class': 'row businessCapsule--mainRow'})\n",
    "    for article in articles:\n",
    "        name = article.find('h2', {'class': 'businessCapsule--name text-h2'}).text\n",
    "        short_description = article.find('span', {'class': 'businessCapsule--classification'})\n",
    "        website = article.find('a', {'class': 'btn btn-yellow businessCapsule--ctaItem'})\n",
    "        phone = article.find('span', {'class': 'business--telephoneNumber'})\n",
    "        map_link = article.find('a', {'class': 'col-sm-24 businessCapsule--address businessCapsule--link'})\n",
    "        address = article.find('span', {'itemprop': 'address'})\n",
    "        features = map(lambda feature : feature.text.strip('● '), \n",
    "                       article.find_all('li', {'class': 'col-sm-12 businessCapsule--servicesItem'}))\n",
    "        rating = article.find('span', {'class': 'starRating--average'})\n",
    "        reviews = article.find('span', {'class': 'starRating--total'})\n",
    "        \n",
    "        shop_info = dict(\n",
    "            name = name,\n",
    "            short_description = (short_description or '') and short_description.text,\n",
    "            website = (website or '') and website['href'],\n",
    "            phone = (phone or '') and phone.text,\n",
    "            map_link = (map_link or '') and map_link['href'],\n",
    "            address = (address or '') and address.text.replace('\\n', ''),\n",
    "            features = ', '.join(features),\n",
    "            rating = (rating or '') and rating.text.strip(),\n",
    "            reviews = (reviews or '') and reviews.text.strip('(').strip(')')\n",
    "        )\n",
    "        yield shop_info"
   ]
  },
  {
   "cell_type": "code",
   "execution_count": 32,
   "id": "peaceful-freight",
   "metadata": {},
   "outputs": [],
   "source": [
    "import pandas as pd\n",
    "from itertools import chain"
   ]
  },
  {
   "cell_type": "code",
   "execution_count": 33,
   "id": "exempt-north",
   "metadata": {},
   "outputs": [],
   "source": [
    "def save_to_file(filename, pages = 10):\n",
    "    full_data = chain.from_iterable(translate(extract(page)) for page in range(1, pages+1))\n",
    "    df = pd.DataFrame(full_data)\n",
    "    df.to_csv(filename)"
   ]
  },
  {
   "cell_type": "code",
   "execution_count": 34,
   "id": "muslim-letter",
   "metadata": {},
   "outputs": [
    {
     "name": "stdout",
     "output_type": "stream",
     "text": [
      "1\n",
      "2\n",
      "3\n",
      "4\n",
      "5\n",
      "6\n",
      "7\n",
      "8\n",
      "9\n",
      "10\n"
     ]
    }
   ],
   "source": [
    "save_to_file('coffe_london.csv')"
   ]
  },
  {
   "cell_type": "code",
   "execution_count": null,
   "id": "joined-dietary",
   "metadata": {},
   "outputs": [],
   "source": []
  }
 ],
 "metadata": {
  "kernelspec": {
   "display_name": "Python 3",
   "language": "python",
   "name": "python3"
  },
  "language_info": {
   "codemirror_mode": {
    "name": "ipython",
    "version": 3
   },
   "file_extension": ".py",
   "mimetype": "text/x-python",
   "name": "python",
   "nbconvert_exporter": "python",
   "pygments_lexer": "ipython3",
   "version": "3.9.1"
  }
 },
 "nbformat": 4,
 "nbformat_minor": 5
}
