{
 "cells": [
  {
   "cell_type": "code",
   "execution_count": 1,
   "id": "centered-comparison",
   "metadata": {},
   "outputs": [],
   "source": [
    "import requests\n",
    "from datetime import datetime\n",
    "from bs4 import BeautifulSoup"
   ]
  },
  {
   "cell_type": "code",
   "execution_count": 2,
   "id": "funky-architect",
   "metadata": {},
   "outputs": [],
   "source": [
    "cpu_url = 'https://www.flipkart.com/electrobot-core-2-duo-4-gb-ram-intel-onboard-graphics-graphics-160-hard-disk-windows-7-ultimate-mid-tower/p/itm1110a9ccee07f?pid=CPUF5CN2HQKWRQ4E&lid=LSTCPUF5CN2HQKWRQ4EKLBXKA&marketplace=FLIPKART&srno=s_1_1&otracker=AS_QueryStore_OrganicAutoSuggest_1_3_na_na_na&otracker1=AS_QueryStore_OrganicAutoSuggest_1_3_na_na_na&fm=SEARCH&iid=93141204-f5a1-4991-99f7-29ef1939a778.CPUF5CN2HQKWRQ4E.SEARCH&ppt=hp&ppn=homepage&ssid=q36nsm5fao0000001614507473661&qH=d9747e2da342bdb9'\n",
    "keyboard_url = 'https://www.flipkart.com/zebronics-judwaa-555-combo-mouse-wired-usb-laptop-keyboard/p/itmeuefxxu2x3pcq?pid=ACCEUEFXZEKWUM7Q&lid=LSTACCEUEFXZEKWUM7Q99YTQI&marketplace=FLIPKART&fm=productRecommendation%2Fattach&iid=R%3Aa%3Bp%3ACPUF5CN2HQKWRQ4E%3Bl%3ALSTCPUF5CN2HQKWRQ4EKLBXKA%3Bpt%3App%3Buid%3A3a97cffe-79ae-11eb-ae02-dba6f60d6454%3B.ACCEUEFXZEKWUM7Q&ssid=6flsb02tj40000001614507478016&otracker=pp_reco_Frequently%2BBought%2BTogether_2_Frequently%2BBought%2BTogether_ACCEUEFXZEKWUM7Q_productRecommendation%2Fattach_2&otracker1=pp_reco_PINNED_productRecommendation%2Fattach_Frequently%2BBought%2BTogether_NA_productCard_cc_2_NA_view-all&cid=ACCEUEFXZEKWUM7Q'\n",
    "monitor_url = 'https://www.flipkart.com/enter-15-4-inch-hd-led-backlit-monitor-e-m16b/p/itmcbeb7bfe73a4a?pid=MONFMBSPP7AVNGQ4&lid=LSTMONFMBSPP7AVNGQ4JZTZ07&marketplace=FLIPKART&fm=productRecommendation%2Fattach&iid=R%3Aa%3Bp%3ACPUF5CN2HQKWRQ4E%3Bl%3ALSTCPUF5CN2HQKWRQ4EKLBXKA%3Bpt%3App%3Buid%3A3a97cffe-79ae-11eb-ae02-dba6f60d6454%3B.MONFMBSPP7AVNGQ4&ssid=6flsb02tj40000001614507478016&otracker=pp_reco_Frequently%2BBought%2BTogether_1_Frequently%2BBought%2BTogether_MONFMBSPP7AVNGQ4_productRecommendation%2Fattach_1&otracker1=pp_reco_PINNED_productRecommendation%2Fattach_Frequently%2BBought%2BTogether_NA_productCard_cc_1_NA_view-all&cid=MONFMBSPP7AVNGQ4'"
   ]
  },
  {
   "cell_type": "code",
   "execution_count": 3,
   "id": "liable-executive",
   "metadata": {},
   "outputs": [],
   "source": [
    "def get_html(url):\n",
    "    response = requests.get(url)\n",
    "    html = response.text\n",
    "    soup = BeautifulSoup(html, 'html.parser')\n",
    "    return soup\n",
    "\n",
    "def get_price(url):\n",
    "    html = get_html(url)\n",
    "    price_text = html.find('div', {'class' : '_30jeq3 _16Jk6d'}).text\n",
    "    price = int(''.join(char for char in price_text if char.isnumeric()))\n",
    "    return price"
   ]
  },
  {
   "cell_type": "code",
   "execution_count": 4,
   "id": "retained-alexandria",
   "metadata": {},
   "outputs": [],
   "source": [
    "urls = cpu_url, keyboard_url, monitor_url"
   ]
  },
  {
   "cell_type": "code",
   "execution_count": 7,
   "id": "increased-pathology",
   "metadata": {},
   "outputs": [],
   "source": [
    "def get_price_log(*urls):\n",
    "    for url in urls:\n",
    "        yield dict(url=url, price=get_price(url), date=datetime.now())"
   ]
  },
  {
   "cell_type": "code",
   "execution_count": 8,
   "id": "opening-vision",
   "metadata": {},
   "outputs": [
    {
     "data": {
      "text/plain": [
       "[5800, 429, 3299]"
      ]
     },
     "execution_count": 8,
     "metadata": {},
     "output_type": "execute_result"
    }
   ],
   "source": [
    "[get_price(url) for url in urls]"
   ]
  },
  {
   "cell_type": "code",
   "execution_count": 15,
   "id": "alien-interim",
   "metadata": {},
   "outputs": [
    {
     "data": {
      "text/plain": [
       "9618"
      ]
     },
     "execution_count": 15,
     "metadata": {},
     "output_type": "execute_result"
    }
   ],
   "source": [
    "sum(get_price(url) for url in urls)"
   ]
  },
  {
   "cell_type": "code",
   "execution_count": 9,
   "id": "liberal-emphasis",
   "metadata": {},
   "outputs": [
    {
     "data": {
      "text/plain": [
       "<generator object get_price_log at 0x000001F163CAB4A0>"
      ]
     },
     "execution_count": 9,
     "metadata": {},
     "output_type": "execute_result"
    }
   ],
   "source": [
    "get_price_log(*urls)"
   ]
  },
  {
   "cell_type": "code",
   "execution_count": 10,
   "id": "tribal-disco",
   "metadata": {},
   "outputs": [
    {
     "data": {
      "text/plain": [
       "[{'url': 'https://www.flipkart.com/electrobot-core-2-duo-4-gb-ram-intel-onboard-graphics-graphics-160-hard-disk-windows-7-ultimate-mid-tower/p/itm1110a9ccee07f?pid=CPUF5CN2HQKWRQ4E&lid=LSTCPUF5CN2HQKWRQ4EKLBXKA&marketplace=FLIPKART&srno=s_1_1&otracker=AS_QueryStore_OrganicAutoSuggest_1_3_na_na_na&otracker1=AS_QueryStore_OrganicAutoSuggest_1_3_na_na_na&fm=SEARCH&iid=93141204-f5a1-4991-99f7-29ef1939a778.CPUF5CN2HQKWRQ4E.SEARCH&ppt=hp&ppn=homepage&ssid=q36nsm5fao0000001614507473661&qH=d9747e2da342bdb9',\n",
       "  'price': 5800,\n",
       "  'date': datetime.datetime(2021, 3, 6, 11, 11, 24, 343751)},\n",
       " {'url': 'https://www.flipkart.com/zebronics-judwaa-555-combo-mouse-wired-usb-laptop-keyboard/p/itmeuefxxu2x3pcq?pid=ACCEUEFXZEKWUM7Q&lid=LSTACCEUEFXZEKWUM7Q99YTQI&marketplace=FLIPKART&fm=productRecommendation%2Fattach&iid=R%3Aa%3Bp%3ACPUF5CN2HQKWRQ4E%3Bl%3ALSTCPUF5CN2HQKWRQ4EKLBXKA%3Bpt%3App%3Buid%3A3a97cffe-79ae-11eb-ae02-dba6f60d6454%3B.ACCEUEFXZEKWUM7Q&ssid=6flsb02tj40000001614507478016&otracker=pp_reco_Frequently%2BBought%2BTogether_2_Frequently%2BBought%2BTogether_ACCEUEFXZEKWUM7Q_productRecommendation%2Fattach_2&otracker1=pp_reco_PINNED_productRecommendation%2Fattach_Frequently%2BBought%2BTogether_NA_productCard_cc_2_NA_view-all&cid=ACCEUEFXZEKWUM7Q',\n",
       "  'price': 429,\n",
       "  'date': datetime.datetime(2021, 3, 6, 11, 11, 24, 820383)},\n",
       " {'url': 'https://www.flipkart.com/enter-15-4-inch-hd-led-backlit-monitor-e-m16b/p/itmcbeb7bfe73a4a?pid=MONFMBSPP7AVNGQ4&lid=LSTMONFMBSPP7AVNGQ4JZTZ07&marketplace=FLIPKART&fm=productRecommendation%2Fattach&iid=R%3Aa%3Bp%3ACPUF5CN2HQKWRQ4E%3Bl%3ALSTCPUF5CN2HQKWRQ4EKLBXKA%3Bpt%3App%3Buid%3A3a97cffe-79ae-11eb-ae02-dba6f60d6454%3B.MONFMBSPP7AVNGQ4&ssid=6flsb02tj40000001614507478016&otracker=pp_reco_Frequently%2BBought%2BTogether_1_Frequently%2BBought%2BTogether_MONFMBSPP7AVNGQ4_productRecommendation%2Fattach_1&otracker1=pp_reco_PINNED_productRecommendation%2Fattach_Frequently%2BBought%2BTogether_NA_productCard_cc_1_NA_view-all&cid=MONFMBSPP7AVNGQ4',\n",
       "  'price': 3299,\n",
       "  'date': datetime.datetime(2021, 3, 6, 11, 11, 25, 338423)}]"
      ]
     },
     "execution_count": 10,
     "metadata": {},
     "output_type": "execute_result"
    }
   ],
   "source": [
    "list(get_price_log(*urls))"
   ]
  },
  {
   "cell_type": "code",
   "execution_count": 11,
   "id": "activated-silver",
   "metadata": {},
   "outputs": [],
   "source": [
    "import dataset"
   ]
  },
  {
   "cell_type": "code",
   "execution_count": 15,
   "id": "weird-egyptian",
   "metadata": {},
   "outputs": [],
   "source": [
    "with dataset.Database('sqlite:///pc_upgrade.db') as db:\n",
    "    pc_upgrade = db.create_table('pc_upgrade')\n",
    "    for data in get_price_log(*urls):\n",
    "        pc_upgrade.insert(data)"
   ]
  },
  {
   "cell_type": "code",
   "execution_count": 22,
   "id": "substantial-knowing",
   "metadata": {},
   "outputs": [
    {
     "name": "stdout",
     "output_type": "stream",
     "text": [
      "5800 2021-03-06 11:20:48.055211\n",
      "429 2021-03-06 11:20:48.938608\n",
      "3299 2021-03-06 11:20:49.555936\n",
      "5800 2021-03-06 11:23:10.366509\n",
      "429 2021-03-06 11:23:10.913831\n",
      "3299 2021-03-06 11:23:12.006038\n"
     ]
    }
   ],
   "source": [
    "for data in db['pc_upgrade']:\n",
    "    print(data['price'], data['date'])"
   ]
  },
  {
   "cell_type": "code",
   "execution_count": null,
   "id": "wrong-universe",
   "metadata": {},
   "outputs": [],
   "source": []
  }
 ],
 "metadata": {
  "kernelspec": {
   "display_name": "Python 3",
   "language": "python",
   "name": "python3"
  },
  "language_info": {
   "codemirror_mode": {
    "name": "ipython",
    "version": 3
   },
   "file_extension": ".py",
   "mimetype": "text/x-python",
   "name": "python",
   "nbconvert_exporter": "python",
   "pygments_lexer": "ipython3",
   "version": "3.9.1"
  }
 },
 "nbformat": 4,
 "nbformat_minor": 5
}
